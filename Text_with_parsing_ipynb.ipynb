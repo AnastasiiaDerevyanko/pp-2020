{
  "nbformat": 4,
  "nbformat_minor": 0,
  "metadata": {
    "colab": {
      "name": "Text with parsing.ipynb\"\"",
      "provenance": [],
      "collapsed_sections": [],
      "authorship_tag": "ABX9TyNlqdQ1PUBSJUfGGrznl0Ya",
      "include_colab_link": true
    },
    "kernelspec": {
      "name": "python3",
      "display_name": "Python 3"
    }
  },
  "cells": [
    {
      "cell_type": "markdown",
      "metadata": {
        "id": "view-in-github",
        "colab_type": "text"
      },
      "source": [
        "<a href=\"https://colab.research.google.com/github/AnastasiiaDerevyanko/pp-2020/blob/master/Text_with_parsing_ipynb.ipynb\" target=\"_parent\"><img src=\"https://colab.research.google.com/assets/colab-badge.svg\" alt=\"Open In Colab\"/></a>"
      ]
    },
    {
      "cell_type": "markdown",
      "metadata": {
        "id": "mp6Sbt3PoahJ"
      },
      "source": [
        "# **Анализ текста**\n",
        "В форму нижу загрузите текст Вашего произведения в формате **\".txt\"**  с именем **\"text\"**"
      ]
    },
    {
      "cell_type": "code",
      "metadata": {
        "id": "zjNWVut0eJZG",
        "cellView": "code",
        "colab": {
          "resources": {
            "http://localhost:8080/nbextensions/google.colab/files.js": {
              "data": "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",
              "ok": true,
              "headers": [
                [
                  "content-type",
                  "application/javascript"
                ]
              ],
              "status": 200,
              "status_text": ""
            }
          },
          "base_uri": "https://localhost:8080/",
          "height": 89
        },
        "outputId": "21ad5a08-c0c1-40f2-eaab-31054accc0e7"
      },
      "source": [
        "from google.colab import files\n",
        "uploaded = files.upload()\n",
        "for fn in uploaded.keys():\n",
        "  print(\"Вы загрузили файл «{name}» with length {length} bytes\".format(name=fn, length=len(uploaded[fn])))"
      ],
      "execution_count": null,
      "outputs": [
        {
          "output_type": "display_data",
          "data": {
            "text/html": [
              "\n",
              "     <input type=\"file\" id=\"files-cdf8357e-f49f-4b56-8df6-1b85cae8f8f1\" name=\"files[]\" multiple disabled\n",
              "        style=\"border:none\" />\n",
              "     <output id=\"result-cdf8357e-f49f-4b56-8df6-1b85cae8f8f1\">\n",
              "      Upload widget is only available when the cell has been executed in the\n",
              "      current browser session. Please rerun this cell to enable.\n",
              "      </output>\n",
              "      <script src=\"/nbextensions/google.colab/files.js\"></script> "
            ],
            "text/plain": [
              "<IPython.core.display.HTML object>"
            ]
          },
          "metadata": {
            "tags": []
          }
        },
        {
          "output_type": "stream",
          "text": [
            "Saving text.txt to text.txt\n",
            "Вы загрузили файл «text.txt» with length 87401 bytes\n"
          ],
          "name": "stdout"
        }
      ]
    },
    {
      "cell_type": "code",
      "metadata": {
        "id": "i4WPCtD0g8yS"
      },
      "source": [
        "handle = open(r\"/content/text.txt\", \"r\")\n",
        "text = handle.read()\n",
        "handle.close()\n"
      ],
      "execution_count": null,
      "outputs": []
    },
    {
      "cell_type": "code",
      "metadata": {
        "id": "peouUCzTlFlK"
      },
      "source": [
        "#print(text)"
      ],
      "execution_count": null,
      "outputs": []
    },
    {
      "cell_type": "code",
      "metadata": {
        "id": "KkUUrxhDlQoF",
        "colab": {
          "base_uri": "https://localhost:8080/"
        },
        "outputId": "187b8e0a-b0d7-4d5b-f7e0-47694abac61c"
      },
      "source": [
        "!pip install natasha\n",
        "from natasha import (\n",
        "    Segmenter,\n",
        "    \n",
        "    NewsEmbedding,\n",
        "    NewsMorphTagger,\n",
        "    NewsSyntaxParser,\n",
        "    \n",
        "    Doc\n",
        ")\n",
        "\n",
        "segmenter = Segmenter()\n",
        "\n",
        "emb = NewsEmbedding()\n",
        "morph_tagger = NewsMorphTagger(emb)\n",
        "syntax_parser = NewsSyntaxParser(emb)\n",
        "\n",
        "doc = Doc(text)\n",
        "\n",
        "doc.segment(segmenter)\n",
        "doc.tag_morph(morph_tagger)\n",
        "doc.parse_syntax(syntax_parser)\n",
        "\n",
        "sent = doc.sents[0]"
      ],
      "execution_count": null,
      "outputs": [
        {
          "output_type": "stream",
          "text": [
            "Collecting natasha\n",
            "\u001b[?25l  Downloading https://files.pythonhosted.org/packages/51/8e/ab0745100be276750fb6b8858c6180a1756696572295a74eb5aea77f3bbd/natasha-1.4.0-py3-none-any.whl (34.4MB)\n",
            "\u001b[K     |████████████████████████████████| 34.4MB 113kB/s \n",
            "\u001b[?25hCollecting slovnet>=0.3.0\n",
            "\u001b[?25l  Downloading https://files.pythonhosted.org/packages/a9/3b/f1ef495be8990004959dd0510c95f688d1b07529f6a862bc56a405770b26/slovnet-0.5.0-py3-none-any.whl (49kB)\n",
            "\u001b[K     |████████████████████████████████| 51kB 6.2MB/s \n",
            "\u001b[?25hCollecting pymorphy2\n",
            "\u001b[?25l  Downloading https://files.pythonhosted.org/packages/07/57/b2ff2fae3376d4f3c697b9886b64a54b476e1a332c67eee9f88e7f1ae8c9/pymorphy2-0.9.1-py3-none-any.whl (55kB)\n",
            "\u001b[K     |████████████████████████████████| 61kB 7.3MB/s \n",
            "\u001b[?25hCollecting ipymarkup>=0.8.0\n",
            "  Downloading https://files.pythonhosted.org/packages/bf/9b/bf54c98d50735a4a7c84c71e92c5361730c878ebfe903d2c2d196ef66055/ipymarkup-0.9.0-py3-none-any.whl\n",
            "Collecting yargy>=0.14.0\n",
            "\u001b[?25l  Downloading https://files.pythonhosted.org/packages/d3/46/bc1a17200a55f4b0608f39ac64f1840fd4a52f9eeea462d9afecbf71246b/yargy-0.15.0-py3-none-any.whl (41kB)\n",
            "\u001b[K     |████████████████████████████████| 51kB 6.2MB/s \n",
            "\u001b[?25hCollecting navec>=0.9.0\n",
            "  Downloading https://files.pythonhosted.org/packages/bc/c1/771ec5565f0ce24874d7fd325b429f9caa80517a40d2e4ce5705120591f3/navec-0.10.0-py3-none-any.whl\n",
            "Collecting razdel>=0.5.0\n",
            "  Downloading https://files.pythonhosted.org/packages/15/2c/664223a3924aa6e70479f7d37220b3a658765b9cfe760b4af7ffdc50d38f/razdel-0.5.0-py3-none-any.whl\n",
            "Requirement already satisfied: numpy in /usr/local/lib/python3.6/dist-packages (from slovnet>=0.3.0->natasha) (1.18.5)\n",
            "Collecting dawg-python>=0.7.1\n",
            "  Downloading https://files.pythonhosted.org/packages/6a/84/ff1ce2071d4c650ec85745766c0047ccc3b5036f1d03559fd46bb38b5eeb/DAWG_Python-0.7.2-py2.py3-none-any.whl\n",
            "Requirement already satisfied: docopt>=0.6 in /usr/local/lib/python3.6/dist-packages (from pymorphy2->natasha) (0.6.2)\n",
            "Collecting pymorphy2-dicts-ru<3.0,>=2.4\n",
            "\u001b[?25l  Downloading https://files.pythonhosted.org/packages/3a/79/bea0021eeb7eeefde22ef9e96badf174068a2dd20264b9a378f2be1cdd9e/pymorphy2_dicts_ru-2.4.417127.4579844-py2.py3-none-any.whl (8.2MB)\n",
            "\u001b[K     |████████████████████████████████| 8.2MB 46.2MB/s \n",
            "\u001b[?25hCollecting intervaltree>=3\n",
            "  Downloading https://files.pythonhosted.org/packages/50/fb/396d568039d21344639db96d940d40eb62befe704ef849b27949ded5c3bb/intervaltree-3.1.0.tar.gz\n",
            "Requirement already satisfied: sortedcontainers<3.0,>=2.0 in /usr/local/lib/python3.6/dist-packages (from intervaltree>=3->ipymarkup>=0.8.0->natasha) (2.2.2)\n",
            "Building wheels for collected packages: intervaltree\n",
            "  Building wheel for intervaltree (setup.py) ... \u001b[?25l\u001b[?25hdone\n",
            "  Created wheel for intervaltree: filename=intervaltree-3.1.0-py2.py3-none-any.whl size=26100 sha256=c1f58a0b7252c254d264ae54d119158f6d3990800319142b09000bb2c1e5e928\n",
            "  Stored in directory: /root/.cache/pip/wheels/f3/f2/66/e9c30d3e9499e65ea2fa0d07c002e64de63bd0adaa49c445bf\n",
            "Successfully built intervaltree\n",
            "Installing collected packages: navec, razdel, slovnet, dawg-python, pymorphy2-dicts-ru, pymorphy2, intervaltree, ipymarkup, yargy, natasha\n",
            "  Found existing installation: intervaltree 2.1.0\n",
            "    Uninstalling intervaltree-2.1.0:\n",
            "      Successfully uninstalled intervaltree-2.1.0\n",
            "Successfully installed dawg-python-0.7.2 intervaltree-3.1.0 ipymarkup-0.9.0 natasha-1.4.0 navec-0.10.0 pymorphy2-0.9.1 pymorphy2-dicts-ru-2.4.417127.4579844 razdel-0.5.0 slovnet-0.5.0 yargy-0.15.0\n"
          ],
          "name": "stdout"
        }
      ]
    },
    {
      "cell_type": "code",
      "metadata": {
        "id": "GzyP1BTcpZjJ"
      },
      "source": [
        "from razdel import tokenize, sentenize"
      ],
      "execution_count": null,
      "outputs": []
    },
    {
      "cell_type": "code",
      "metadata": {
        "id": "UkuMFKOopcF5"
      },
      "source": [
        "text_sentence=list(sentenize(text))\n",
        "list_sentence=[]\n",
        "for sentence in text_sentence:\n",
        "  list_sentence+=(list(sentence)[2:])\n",
        "#print(list_sentence)"
      ],
      "execution_count": null,
      "outputs": []
    },
    {
      "cell_type": "code",
      "metadata": {
        "id": "FUlPOMm5q581",
        "colab": {
          "base_uri": "https://localhost:8080/"
        },
        "outputId": "465de722-507b-4403-ee5e-0731d4546536"
      },
      "source": [
        "!pip install pymorphy2\n",
        "import pymorphy2\n",
        "!pip install pymorphy2-dicts-ru\n",
        "morph = pymorphy2.MorphAnalyzer(path='/usr/local/lib/python3.6/dist-packages/pymorphy2_dicts_ru/data')"
      ],
      "execution_count": null,
      "outputs": [
        {
          "output_type": "stream",
          "text": [
            "Requirement already satisfied: pymorphy2 in /usr/local/lib/python3.6/dist-packages (0.9.1)\n",
            "Requirement already satisfied: dawg-python>=0.7.1 in /usr/local/lib/python3.6/dist-packages (from pymorphy2) (0.7.2)\n",
            "Requirement already satisfied: docopt>=0.6 in /usr/local/lib/python3.6/dist-packages (from pymorphy2) (0.6.2)\n",
            "Requirement already satisfied: pymorphy2-dicts-ru<3.0,>=2.4 in /usr/local/lib/python3.6/dist-packages (from pymorphy2) (2.4.417127.4579844)\n",
            "Requirement already satisfied: pymorphy2-dicts-ru in /usr/local/lib/python3.6/dist-packages (2.4.417127.4579844)\n"
          ],
          "name": "stdout"
        }
      ]
    },
    {
      "cell_type": "code",
      "metadata": {
        "id": "WFbrGHF2rDnW"
      },
      "source": [
        "from natasha import NewsNERTagger\n",
        "\n",
        "ner_tagger = NewsNERTagger(emb)\n",
        "doc.tag_ner(ner_tagger)"
      ],
      "execution_count": null,
      "outputs": []
    },
    {
      "cell_type": "code",
      "metadata": {
        "id": "MmH7cGFprHnP"
      },
      "source": [
        "from natasha import MorphVocab\n",
        "\n",
        "morph_vocab = MorphVocab()\n",
        "\n",
        "\n",
        "\n",
        "for span in doc.spans:\n",
        "    span.normalize(morph_vocab)\n",
        "\n",
        "dict_name={_.text: _.normal for _ in doc.spans}\n",
        "#print(dict_name)"
      ],
      "execution_count": null,
      "outputs": []
    },
    {
      "cell_type": "code",
      "metadata": {
        "id": "CzFnXFMVrKNE"
      },
      "source": [
        "text_string=''\n",
        "for sentence in list_sentence:\n",
        "  for key in dict_name:\n",
        "    while key in sentence:\n",
        "      sentence=sentence.replace(key,\" \")\n",
        "  text_string+=sentence+' '\n",
        "#print(text_string)"
      ],
      "execution_count": null,
      "outputs": []
    },
    {
      "cell_type": "code",
      "metadata": {
        "id": "IKzHth1hsTDI",
        "colab": {
          "base_uri": "https://localhost:8080/"
        },
        "outputId": "3975e7ec-ca7d-4819-f04b-ff6d37b81d3f"
      },
      "source": [
        "!pip install nltk  # $ pip install nltk\n",
        "import nltk\n",
        "nltk.download('averaged_perceptron_tagger_ru')\n",
        "nltk.download('punkt')"
      ],
      "execution_count": null,
      "outputs": [
        {
          "output_type": "stream",
          "text": [
            "Requirement already satisfied: nltk in /usr/local/lib/python3.6/dist-packages (3.2.5)\n",
            "Requirement already satisfied: six in /usr/local/lib/python3.6/dist-packages (from nltk) (1.15.0)\n",
            "[nltk_data] Downloading package averaged_perceptron_tagger_ru to\n",
            "[nltk_data]     /root/nltk_data...\n",
            "[nltk_data]   Unzipping taggers/averaged_perceptron_tagger_ru.zip.\n",
            "[nltk_data] Downloading package punkt to /root/nltk_data...\n",
            "[nltk_data]   Unzipping tokenizers/punkt.zip.\n"
          ],
          "name": "stdout"
        },
        {
          "output_type": "execute_result",
          "data": {
            "text/plain": [
              "True"
            ]
          },
          "metadata": {
            "tags": []
          },
          "execution_count": 11
        }
      ]
    },
    {
      "cell_type": "code",
      "metadata": {
        "id": "wkDzX4XW8ra4"
      },
      "source": [
        "from nltk.util import ngrams\n",
        "from nltk.tokenize import sent_tokenize, word_tokenize\n",
        "from nltk.collocations import *"
      ],
      "execution_count": null,
      "outputs": []
    },
    {
      "cell_type": "code",
      "metadata": {
        "id": "_26ftYqjtFGn"
      },
      "source": [
        "text_string = nltk.word_tokenize(text_string)\n",
        "functors_pos = {''}  # function words CONJ - союзы ADV-PRO-местоимения PART-частицы или другие служебные слова \n",
        "text_string=''.join([word for word, pos in nltk.pos_tag(text, lang='rus')\n",
        "        if pos not in functors_pos])\n",
        "#print(text_string)"
      ],
      "execution_count": null,
      "outputs": []
    },
    {
      "cell_type": "code",
      "metadata": {
        "id": "wdlVJpJcuo5C",
        "colab": {
          "base_uri": "https://localhost:8080/"
        },
        "outputId": "f70a99a1-ef7e-45f0-c161-1cee32ffc9a4"
      },
      "source": [
        "text_lower=text_string.lower()\n",
        "text_sentenize_lower=list(sentenize(text_lower))\n",
        "sentences = nltk.sent_tokenize(text_string)\n",
        "import nltk\n",
        "import string\n",
        "nltk.download('punkt')\n",
        "nltk.download('stopwords')\n",
        "from nltk.corpus import stopwords\n",
        " \n",
        "def tokenize_me(file_text):\n",
        "    #firstly let's apply nltk tokenization\n",
        "    tokens = nltk.word_tokenize(file_text)\n",
        " \n",
        "    #let's delete punctuation symbols\n",
        "    tokens = [i for i in tokens if ( i not in string.punctuation )]\n",
        " \n",
        "    #deleting stop_words\n",
        "    stop_words = stopwords.words('russian')\n",
        "    stop_words.extend(['что','это','так', 'вот', 'быть', 'как', 'в', '—','-','–',',',';',':','я','он','она','они','оно','ты','вы','мы','который','какой','мой','твой','свой','наш','ваш','один','много'])\n",
        "    tokens = [i for i in tokens if ( i not in stop_words )]\n",
        " \n",
        "    #cleaning words\n",
        "    tokens = [i.replace(\"«\", \"\").replace(\"»\", \"\") for i in tokens]\n",
        " \n",
        "    return tokens\n",
        "\n",
        "text_sentense=[]\n",
        "text_sentense_token_list=[]\n",
        "sentences = nltk.sent_tokenize(text_lower)\n",
        "text_sentense_token=[]\n",
        "\n",
        "for sentence in sentences:\n",
        "    text_sentense_token.append(tokenize_me(sentence))\n",
        "    text_sentense_token_list.append(\" \".join(tokenize_me(sentence)))\n",
        "text_sentense_token_string=' '.join(text_sentense_token_list)\n",
        "#print(text_sentense_token)\n",
        "text_word=text_sentense_token_string.split()\n",
        "#print(text_word)"
      ],
      "execution_count": null,
      "outputs": [
        {
          "output_type": "stream",
          "text": [
            "[nltk_data] Downloading package punkt to /root/nltk_data...\n",
            "[nltk_data]   Package punkt is already up-to-date!\n",
            "[nltk_data] Downloading package stopwords to /root/nltk_data...\n",
            "[nltk_data]   Unzipping corpora/stopwords.zip.\n"
          ],
          "name": "stdout"
        }
      ]
    },
    {
      "cell_type": "code",
      "metadata": {
        "id": "qZb9Otxu-4q5"
      },
      "source": [
        "from nltk.util import ngrams\n",
        "from nltk.tokenize import sent_tokenize, word_tokenize\n",
        "from nltk.collocations import *"
      ],
      "execution_count": null,
      "outputs": []
    },
    {
      "cell_type": "code",
      "metadata": {
        "id": "vAqMztB1iLVn"
      },
      "source": [
        "text_word_normalize=[]\n",
        "for word in text_word:\n",
        "    p = morph.parse(word)[0]\n",
        "    text_word_normalize.append(p.normal_form)\n",
        "#print(text_word_normalize)"
      ],
      "execution_count": null,
      "outputs": []
    },
    {
      "cell_type": "code",
      "metadata": {
        "id": "4s-uBuKXiKfq"
      },
      "source": [
        "from nltk.stem import SnowballStemmer\n",
        "snowball = SnowballStemmer(language=\"russian\")\n",
        "token_stemm=[]\n",
        "for token in text_word_normalize:\n",
        "  p = morph.parse(token)[0]\n",
        "  token_stemm.append(p.normal_form)\n",
        "  #print(p.normal_form)"
      ],
      "execution_count": null,
      "outputs": []
    },
    {
      "cell_type": "code",
      "metadata": {
        "id": "xSl5Ak8GAVxc"
      },
      "source": [
        "from nltk import ngrams\n",
        "\n",
        "sentence = 'this is a foo bar sentences and i want to ngramize it'\n",
        "token_stemm_string=''\n",
        "token_stemm_string=' '.join(token_stemm)\n",
        "#print(token_stemm_string)\n",
        "n = 2\n",
        "n2grams = ngrams(token_stemm, n)\n",
        "\n",
        "ngrams_dict={}\n",
        "\n",
        "#count=1\n",
        "grams_string=''\n",
        "for grams in n2grams:\n",
        "  grams_string=' '.join(map(str,grams))\n",
        "  ngrams_dict.update({grams_string:token_stemm_string.count(grams_string)})\n",
        "#print(ngrams_dict)"
      ],
      "execution_count": null,
      "outputs": []
    },
    {
      "cell_type": "code",
      "metadata": {
        "id": "fiEr2-qODVoq"
      },
      "source": [
        "list_ngrams_dict=list(ngrams_dict.items())"
      ],
      "execution_count": null,
      "outputs": []
    },
    {
      "cell_type": "code",
      "metadata": {
        "id": "9YegozvlEcyF"
      },
      "source": [
        "list_ngrams_dict.sort(key=lambda i: i[1])"
      ],
      "execution_count": null,
      "outputs": []
    },
    {
      "cell_type": "code",
      "metadata": {
        "id": "ihv8uCRGwHt0"
      },
      "source": [
        "import collections"
      ],
      "execution_count": null,
      "outputs": []
    },
    {
      "cell_type": "code",
      "metadata": {
        "id": "QABh9nuFwUWU"
      },
      "source": [
        "from collections import Counter\n",
        "import math\n",
        "\n",
        "def compute_tfidf(corpus):\n",
        "  def compute_tf(text):\n",
        "    tf_text = Counter(text)\n",
        "    for i in tf_text:\n",
        "      tf_text[i] = tf_text[i]/float(len(text))\n",
        "    return tf_text\n",
        "  def compute_idf(word, corpus):\n",
        "    return math.log10(len(corpus)/sum([1.0 for i in corpus if word in i]))\n",
        "    \n",
        "  documents_list = []\n",
        "  for text in corpus:\n",
        "    tf_idf_dictionary = {}\n",
        "    computed_tf = compute_tf(text)\n",
        "    for word in computed_tf:\n",
        "      tf_idf_dictionary[word] = computed_tf[word] * compute_idf(word, corpus)\n",
        "    documents_list.append(tf_idf_dictionary)\n",
        "  return documents_list\n",
        "\n",
        "text_tfidf=compute_tfidf(text_sentense_token)\n",
        "#print(text_tfidf)"
      ],
      "execution_count": null,
      "outputs": []
    },
    {
      "cell_type": "code",
      "metadata": {
        "id": "-lkF8DM5wdgn"
      },
      "source": [
        "tfidf_text={}\n",
        "for sentence in text_tfidf:\n",
        "  for key,value in sentence.items():\n",
        "    tfidf_text.update({value:key})\n",
        "#print(tfidf_text)\n"
      ],
      "execution_count": null,
      "outputs": []
    },
    {
      "cell_type": "code",
      "metadata": {
        "id": "k4r1bhj0wg_v"
      },
      "source": [
        "key_sort=[]\n",
        "for key in tfidf_text:\n",
        "  key_sort.append(key)\n",
        "key_sort=sorted(key_sort,reverse=True)\n",
        "#print(key_sort)"
      ],
      "execution_count": null,
      "outputs": []
    },
    {
      "cell_type": "code",
      "metadata": {
        "id": "g5AEaj_2wkiK"
      },
      "source": [
        "stem_token=[]\n",
        "for key in key_sort:\n",
        "  stem_token.append(tfidf_text[key])\n",
        "#print(stem_token)"
      ],
      "execution_count": null,
      "outputs": []
    },
    {
      "cell_type": "code",
      "metadata": {
        "id": "M71VLDs5wof4",
        "colab": {
          "base_uri": "https://localhost:8080/"
        },
        "outputId": "6edecd15-bd55-4e97-c7be-c178c757867b"
      },
      "source": [
        "!pip install pymorphy2\n",
        "import pymorphy2\n",
        "!pip install pymorphy2-dicts-ru\n",
        "morph = pymorphy2.MorphAnalyzer(path='/usr/local/lib/python3.6/dist-packages/pymorphy2_dicts_ru/data')"
      ],
      "execution_count": null,
      "outputs": [
        {
          "output_type": "stream",
          "text": [
            "Requirement already satisfied: pymorphy2 in /usr/local/lib/python3.6/dist-packages (0.9.1)\n",
            "Requirement already satisfied: dawg-python>=0.7.1 in /usr/local/lib/python3.6/dist-packages (from pymorphy2) (0.7.2)\n",
            "Requirement already satisfied: pymorphy2-dicts-ru<3.0,>=2.4 in /usr/local/lib/python3.6/dist-packages (from pymorphy2) (2.4.417127.4579844)\n",
            "Requirement already satisfied: docopt>=0.6 in /usr/local/lib/python3.6/dist-packages (from pymorphy2) (0.6.2)\n",
            "Requirement already satisfied: pymorphy2-dicts-ru in /usr/local/lib/python3.6/dist-packages (2.4.417127.4579844)\n"
          ],
          "name": "stdout"
        }
      ]
    },
    {
      "cell_type": "code",
      "metadata": {
        "id": "FYSn103ZwrvF"
      },
      "source": [
        "from nltk.stem import SnowballStemmer\n",
        "snowball = SnowballStemmer(language=\"russian\")\n",
        "token_stemm=[]\n",
        "for token in stem_token:\n",
        "  p = morph.parse(token)[0]\n",
        "  token_stemm.append(p.normal_form)\n",
        "  #print(p.normal_form)"
      ],
      "execution_count": null,
      "outputs": []
    },
    {
      "cell_type": "code",
      "metadata": {
        "id": "Gj2YdMcSwzfZ"
      },
      "source": [
        "stem_dict={}\n",
        "for word  in token_stemm:\n",
        "  stem_dict.update({word:token_stemm.count(word)})\n",
        "#print(stem_dict)"
      ],
      "execution_count": null,
      "outputs": []
    },
    {
      "cell_type": "code",
      "metadata": {
        "id": "nfdhKuMxw3KA",
        "colab": {
          "base_uri": "https://localhost:8080/"
        },
        "outputId": "610f55a4-db38-4030-a62a-e9c9724465ac"
      },
      "source": [
        "list_stem_dict = list(stem_dict.items())\n",
        "list_stem_dict.sort(key=lambda i: i[1])\n",
        "list_stem_dict_end=[]\n",
        "for i in list_stem_dict[-20:]:\n",
        "  #print(i[0], ':', i[1])\n",
        "  list_stem_dict_end.append(i[0])\n",
        "print(list_stem_dict_end)"
      ],
      "execution_count": null,
      "outputs": [
        {
          "output_type": "stream",
          "text": [
            "['процесс', 'в.', 'материальный', 'культурный', 'лишь', 'время', 'жизнь', 'цивилизация', 'мир', 'деятельность', 'являться', 'духовный', 'общество', 'научно-технический', 'техника', '', 'развитие', 'прогресс', 'человек', 'культура']\n"
          ],
          "name": "stdout"
        }
      ]
    },
    {
      "cell_type": "code",
      "metadata": {
        "id": "BbfFo_2JV3KV",
        "colab": {
          "base_uri": "https://localhost:8080/"
        },
        "outputId": "032e6d8b-e905-4adf-b7ba-0a6cacaaf43c"
      },
      "source": [
        "list_ngrams_dict_end=[]\n",
        "for key in list_ngrams_dict[-20:]:\n",
        "  list_ngrams_dict_end.append(key[0])\n",
        "  print(key)\n"
      ],
      "execution_count": null,
      "outputs": [
        {
          "output_type": "stream",
          "text": [
            "('культура цивилизация', 5)\n",
            "('реализация духовный', 5)\n",
            "('материальный культура', 5)\n",
            "('культурный деятельность', 5)\n",
            "('индустриальный прогресс', 5)\n",
            "('режим доступ', 5)\n",
            "('дата доступ', 5)\n",
            "('доступ http', 5)\n",
            "('такой образ', 6)\n",
            "('духовный ценность', 8)\n",
            "('xix в.', 8)\n",
            "('картина мир', 9)\n",
            "('развитие культура', 10)\n",
            "('деятельность человек', 10)\n",
            "('развитие наука', 10)\n",
            "('материальный духовный', 12)\n",
            "('духовный культура', 13)\n",
            "('наука техника', 18)\n",
            "('научно-технический прогресс', 23)\n",
            "('технический прогресс', 24)\n"
          ],
          "name": "stdout"
        }
      ]
    },
    {
      "cell_type": "markdown",
      "metadata": {
        "id": "kIw0PJU0Y5d2"
      },
      "source": [
        "Выше приведен небольшой анализ текста. Основоваясь на проанализированных данных, заполните формы ниже, чтобы более точно сгенерировать внешность основных героев, место действия и другие объекты.\n",
        "Например, если Вы хотите описать внешность маленького мальчика с черными волосами, то вводите следующие фразы \"портретная фотография маленького мальчика с черными волосами\", \"портрет мальчика с черными волосами\", также вводите фразы на английском или других языках \"the portrait photo of little boy with black hair\". Это поможет для сбора большего количества изображений, для последующей генерации персонажей.\n",
        "Также, Вы можете добавить не только описание персонажей, но и описание тех объектов, которые Вы хотите поместить на обложку. Но мы не советуем добавлять на обложку множество маленьких деталей и объектов, так как это значительно увеличит время генерации изображений."
      ]
    },
    {
      "cell_type": "markdown",
      "metadata": {
        "id": "ikhlAx696nHf"
      },
      "source": [
        "# Вам на выбор предложено два способа генерации/создания обложек каждый из которых имеет, как и свои преимущества, так и недостатки.\n",
        "\n",
        "\n",
        "1.   **Генерация изображений с использованием нейронных сетей** В этом случае собирается опорный датасет, с большим количеством изображений, который впоследствии будет использоваться для генерации картинок. Этот подход очень долгий(20-30 часов в зависимости от количества объектов и их сложности), Вам потребуется запас терпения и времени, но, взамен, изображения, полученные на выходе будут полностью оригинальными, и Вы можете использовать их без опасения нарушить чье-либо авторское право.\n",
        "2.   **Сбор необходимых изображений с открытых источников** Этот подход в разы проще и быстрее, он позволяет Вам почти сразу же получить необходимые изображения. Но некоторые из них могут быть защищены авторским правом, поэтому будьте осторожны при использовании скачанных изображений в коммерческих целях.\n",
        "\n"
      ]
    },
    {
      "cell_type": "markdown",
      "metadata": {
        "id": "poiyhxv4uR0Y"
      },
      "source": [
        "# Подготовка к поиску изображений"
      ]
    },
    {
      "cell_type": "code",
      "metadata": {
        "id": "lqsqIqD-c_Bq",
        "colab": {
          "base_uri": "https://localhost:8080/"
        },
        "outputId": "d11b06a6-fa8c-4197-bc4a-f91f43d0ba90"
      },
      "source": [
        "%pip install Selenium\n",
        "%pip install chromedriver\n",
        "!git clone https://github.com/Joeclinton1/google-images-download.git\n",
        "!cd google-images-download && sudo python setup.py install\n"
      ],
      "execution_count": null,
      "outputs": [
        {
          "output_type": "stream",
          "text": [
            "Collecting Selenium\n",
            "\u001b[?25l  Downloading https://files.pythonhosted.org/packages/80/d6/4294f0b4bce4de0abf13e17190289f9d0613b0a44e5dd6a7f5ca98459853/selenium-3.141.0-py2.py3-none-any.whl (904kB)\n",
            "\r\u001b[K     |▍                               | 10kB 16.1MB/s eta 0:00:01\r\u001b[K     |▊                               | 20kB 20.6MB/s eta 0:00:01\r\u001b[K     |█                               | 30kB 10.4MB/s eta 0:00:01\r\u001b[K     |█▌                              | 40kB 9.5MB/s eta 0:00:01\r\u001b[K     |█▉                              | 51kB 4.3MB/s eta 0:00:01\r\u001b[K     |██▏                             | 61kB 4.4MB/s eta 0:00:01\r\u001b[K     |██▌                             | 71kB 4.6MB/s eta 0:00:01\r\u001b[K     |███                             | 81kB 5.1MB/s eta 0:00:01\r\u001b[K     |███▎                            | 92kB 5.3MB/s eta 0:00:01\r\u001b[K     |███▋                            | 102kB 5.6MB/s eta 0:00:01\r\u001b[K     |████                            | 112kB 5.6MB/s eta 0:00:01\r\u001b[K     |████▍                           | 122kB 5.6MB/s eta 0:00:01\r\u001b[K     |████▊                           | 133kB 5.6MB/s eta 0:00:01\r\u001b[K     |█████                           | 143kB 5.6MB/s eta 0:00:01\r\u001b[K     |█████▍                          | 153kB 5.6MB/s eta 0:00:01\r\u001b[K     |█████▉                          | 163kB 5.6MB/s eta 0:00:01\r\u001b[K     |██████▏                         | 174kB 5.6MB/s eta 0:00:01\r\u001b[K     |██████▌                         | 184kB 5.6MB/s eta 0:00:01\r\u001b[K     |██████▉                         | 194kB 5.6MB/s eta 0:00:01\r\u001b[K     |███████▎                        | 204kB 5.6MB/s eta 0:00:01\r\u001b[K     |███████▋                        | 215kB 5.6MB/s eta 0:00:01\r\u001b[K     |████████                        | 225kB 5.6MB/s eta 0:00:01\r\u001b[K     |████████▎                       | 235kB 5.6MB/s eta 0:00:01\r\u001b[K     |████████▊                       | 245kB 5.6MB/s eta 0:00:01\r\u001b[K     |█████████                       | 256kB 5.6MB/s eta 0:00:01\r\u001b[K     |█████████▍                      | 266kB 5.6MB/s eta 0:00:01\r\u001b[K     |█████████▉                      | 276kB 5.6MB/s eta 0:00:01\r\u001b[K     |██████████▏                     | 286kB 5.6MB/s eta 0:00:01\r\u001b[K     |██████████▌                     | 296kB 5.6MB/s eta 0:00:01\r\u001b[K     |██████████▉                     | 307kB 5.6MB/s eta 0:00:01\r\u001b[K     |███████████▎                    | 317kB 5.6MB/s eta 0:00:01\r\u001b[K     |███████████▋                    | 327kB 5.6MB/s eta 0:00:01\r\u001b[K     |████████████                    | 337kB 5.6MB/s eta 0:00:01\r\u001b[K     |████████████▎                   | 348kB 5.6MB/s eta 0:00:01\r\u001b[K     |████████████▊                   | 358kB 5.6MB/s eta 0:00:01\r\u001b[K     |█████████████                   | 368kB 5.6MB/s eta 0:00:01\r\u001b[K     |█████████████▍                  | 378kB 5.6MB/s eta 0:00:01\r\u001b[K     |█████████████▊                  | 389kB 5.6MB/s eta 0:00:01\r\u001b[K     |██████████████▏                 | 399kB 5.6MB/s eta 0:00:01\r\u001b[K     |██████████████▌                 | 409kB 5.6MB/s eta 0:00:01\r\u001b[K     |██████████████▉                 | 419kB 5.6MB/s eta 0:00:01\r\u001b[K     |███████████████▏                | 430kB 5.6MB/s eta 0:00:01\r\u001b[K     |███████████████▋                | 440kB 5.6MB/s eta 0:00:01\r\u001b[K     |████████████████                | 450kB 5.6MB/s eta 0:00:01\r\u001b[K     |████████████████▎               | 460kB 5.6MB/s eta 0:00:01\r\u001b[K     |████████████████▋               | 471kB 5.6MB/s eta 0:00:01\r\u001b[K     |█████████████████               | 481kB 5.6MB/s eta 0:00:01\r\u001b[K     |█████████████████▍              | 491kB 5.6MB/s eta 0:00:01\r\u001b[K     |█████████████████▊              | 501kB 5.6MB/s eta 0:00:01\r\u001b[K     |██████████████████▏             | 512kB 5.6MB/s eta 0:00:01\r\u001b[K     |██████████████████▌             | 522kB 5.6MB/s eta 0:00:01\r\u001b[K     |██████████████████▉             | 532kB 5.6MB/s eta 0:00:01\r\u001b[K     |███████████████████▏            | 542kB 5.6MB/s eta 0:00:01\r\u001b[K     |███████████████████▋            | 552kB 5.6MB/s eta 0:00:01\r\u001b[K     |████████████████████            | 563kB 5.6MB/s eta 0:00:01\r\u001b[K     |████████████████████▎           | 573kB 5.6MB/s eta 0:00:01\r\u001b[K     |████████████████████▋           | 583kB 5.6MB/s eta 0:00:01\r\u001b[K     |█████████████████████           | 593kB 5.6MB/s eta 0:00:01\r\u001b[K     |█████████████████████▍          | 604kB 5.6MB/s eta 0:00:01\r\u001b[K     |█████████████████████▊          | 614kB 5.6MB/s eta 0:00:01\r\u001b[K     |██████████████████████          | 624kB 5.6MB/s eta 0:00:01\r\u001b[K     |██████████████████████▌         | 634kB 5.6MB/s eta 0:00:01\r\u001b[K     |██████████████████████▉         | 645kB 5.6MB/s eta 0:00:01\r\u001b[K     |███████████████████████▏        | 655kB 5.6MB/s eta 0:00:01\r\u001b[K     |███████████████████████▌        | 665kB 5.6MB/s eta 0:00:01\r\u001b[K     |████████████████████████        | 675kB 5.6MB/s eta 0:00:01\r\u001b[K     |████████████████████████▎       | 686kB 5.6MB/s eta 0:00:01\r\u001b[K     |████████████████████████▋       | 696kB 5.6MB/s eta 0:00:01\r\u001b[K     |█████████████████████████       | 706kB 5.6MB/s eta 0:00:01\r\u001b[K     |█████████████████████████▍      | 716kB 5.6MB/s eta 0:00:01\r\u001b[K     |█████████████████████████▊      | 727kB 5.6MB/s eta 0:00:01\r\u001b[K     |██████████████████████████      | 737kB 5.6MB/s eta 0:00:01\r\u001b[K     |██████████████████████████▍     | 747kB 5.6MB/s eta 0:00:01\r\u001b[K     |██████████████████████████▉     | 757kB 5.6MB/s eta 0:00:01\r\u001b[K     |███████████████████████████▏    | 768kB 5.6MB/s eta 0:00:01\r\u001b[K     |███████████████████████████▌    | 778kB 5.6MB/s eta 0:00:01\r\u001b[K     |████████████████████████████    | 788kB 5.6MB/s eta 0:00:01\r\u001b[K     |████████████████████████████▎   | 798kB 5.6MB/s eta 0:00:01\r\u001b[K     |████████████████████████████▋   | 808kB 5.6MB/s eta 0:00:01\r\u001b[K     |█████████████████████████████   | 819kB 5.6MB/s eta 0:00:01\r\u001b[K     |█████████████████████████████▍  | 829kB 5.6MB/s eta 0:00:01\r\u001b[K     |█████████████████████████████▊  | 839kB 5.6MB/s eta 0:00:01\r\u001b[K     |██████████████████████████████  | 849kB 5.6MB/s eta 0:00:01\r\u001b[K     |██████████████████████████████▍ | 860kB 5.6MB/s eta 0:00:01\r\u001b[K     |██████████████████████████████▉ | 870kB 5.6MB/s eta 0:00:01\r\u001b[K     |███████████████████████████████▏| 880kB 5.6MB/s eta 0:00:01\r\u001b[K     |███████████████████████████████▌| 890kB 5.6MB/s eta 0:00:01\r\u001b[K     |███████████████████████████████▉| 901kB 5.6MB/s eta 0:00:01\r\u001b[K     |████████████████████████████████| 911kB 5.6MB/s \n",
            "\u001b[?25hRequirement already satisfied: urllib3 in /usr/local/lib/python3.6/dist-packages (from Selenium) (1.24.3)\n",
            "Installing collected packages: Selenium\n",
            "Successfully installed Selenium-3.141.0\n",
            "Collecting chromedriver\n",
            "\u001b[?25l  Downloading https://files.pythonhosted.org/packages/c8/5e/1daf3c71852f5b8536e30b2afa1e6442c454e91947678ac1a37daba2d7f5/chromedriver-2.24.1-py2.py3-none-any.whl (14.3MB)\n",
            "\u001b[K     |████████████████████████████████| 14.3MB 304kB/s \n",
            "\u001b[?25hInstalling collected packages: chromedriver\n",
            "Successfully installed chromedriver-2.24.1\n",
            "Cloning into 'google-images-download'...\n",
            "remote: Enumerating objects: 12, done.\u001b[K\n",
            "remote: Counting objects: 100% (12/12), done.\u001b[K\n",
            "remote: Compressing objects: 100% (12/12), done.\u001b[K\n",
            "remote: Total 666 (delta 6), reused 2 (delta 0), pack-reused 654\u001b[K\n",
            "Receiving objects: 100% (666/666), 295.55 KiB | 7.21 MiB/s, done.\n",
            "Resolving deltas: 100% (388/388), done.\n",
            "running install\n",
            "running bdist_egg\n",
            "running egg_info\n",
            "creating google_images_download.egg-info\n",
            "writing google_images_download.egg-info/PKG-INFO\n",
            "writing dependency_links to google_images_download.egg-info/dependency_links.txt\n",
            "writing entry points to google_images_download.egg-info/entry_points.txt\n",
            "writing requirements to google_images_download.egg-info/requires.txt\n",
            "writing top-level names to google_images_download.egg-info/top_level.txt\n",
            "writing manifest file 'google_images_download.egg-info/SOURCES.txt'\n",
            "reading manifest template 'MANIFEST.in'\n",
            "warning: no files found matching 'README.md'\n",
            "writing manifest file 'google_images_download.egg-info/SOURCES.txt'\n",
            "installing library code to build/bdist.linux-x86_64/egg\n",
            "running install_lib\n",
            "running build_py\n",
            "creating build\n",
            "creating build/lib\n",
            "creating build/lib/google_images_download\n",
            "copying google_images_download/__init__.py -> build/lib/google_images_download\n",
            "copying google_images_download/__main__.py -> build/lib/google_images_download\n",
            "copying google_images_download/google_images_download.py -> build/lib/google_images_download\n",
            "copying google_images_download/sample_config.json -> build/lib/google_images_download\n",
            "creating build/bdist.linux-x86_64\n",
            "creating build/bdist.linux-x86_64/egg\n",
            "creating build/bdist.linux-x86_64/egg/google_images_download\n",
            "copying build/lib/google_images_download/__init__.py -> build/bdist.linux-x86_64/egg/google_images_download\n",
            "copying build/lib/google_images_download/sample_config.json -> build/bdist.linux-x86_64/egg/google_images_download\n",
            "copying build/lib/google_images_download/__main__.py -> build/bdist.linux-x86_64/egg/google_images_download\n",
            "copying build/lib/google_images_download/google_images_download.py -> build/bdist.linux-x86_64/egg/google_images_download\n",
            "byte-compiling build/bdist.linux-x86_64/egg/google_images_download/__init__.py to __init__.cpython-36.pyc\n",
            "byte-compiling build/bdist.linux-x86_64/egg/google_images_download/__main__.py to __main__.cpython-36.pyc\n",
            "byte-compiling build/bdist.linux-x86_64/egg/google_images_download/google_images_download.py to google_images_download.cpython-36.pyc\n",
            "creating build/bdist.linux-x86_64/egg/EGG-INFO\n",
            "copying google_images_download.egg-info/PKG-INFO -> build/bdist.linux-x86_64/egg/EGG-INFO\n",
            "copying google_images_download.egg-info/SOURCES.txt -> build/bdist.linux-x86_64/egg/EGG-INFO\n",
            "copying google_images_download.egg-info/dependency_links.txt -> build/bdist.linux-x86_64/egg/EGG-INFO\n",
            "copying google_images_download.egg-info/entry_points.txt -> build/bdist.linux-x86_64/egg/EGG-INFO\n",
            "copying google_images_download.egg-info/requires.txt -> build/bdist.linux-x86_64/egg/EGG-INFO\n",
            "copying google_images_download.egg-info/top_level.txt -> build/bdist.linux-x86_64/egg/EGG-INFO\n",
            "zip_safe flag not set; analyzing archive contents...\n",
            "creating dist\n",
            "creating 'dist/google_images_download-2.8.0-py3.6.egg' and adding 'build/bdist.linux-x86_64/egg' to it\n",
            "removing 'build/bdist.linux-x86_64/egg' (and everything under it)\n",
            "Processing google_images_download-2.8.0-py3.6.egg\n",
            "Copying google_images_download-2.8.0-py3.6.egg to /usr/local/lib/python3.6/dist-packages\n",
            "Adding google-images-download 2.8.0 to easy-install.pth file\n",
            "Installing googleimagesdownload script to /usr/local/bin\n",
            "\n",
            "Installed /usr/local/lib/python3.6/dist-packages/google_images_download-2.8.0-py3.6.egg\n",
            "Processing dependencies for google-images-download==2.8.0\n",
            "Searching for selenium==3.141.0\n",
            "Best match: selenium 3.141.0\n",
            "Adding selenium 3.141.0 to easy-install.pth file\n",
            "\n",
            "Using /usr/local/lib/python3.6/dist-packages\n",
            "Searching for urllib3==1.24.3\n",
            "Best match: urllib3 1.24.3\n",
            "Adding urllib3 1.24.3 to easy-install.pth file\n",
            "\n",
            "Using /usr/local/lib/python3.6/dist-packages\n",
            "Finished processing dependencies for google-images-download==2.8.0\n"
          ],
          "name": "stdout"
        }
      ]
    },
    {
      "cell_type": "markdown",
      "metadata": {
        "id": "GaG_rJ0r5i4s"
      },
      "source": [
        "Вы уже провели анализ текста, ниже предлагаю Вам выбрать слова или же фразы, которые будут использоваться либо для генерации, либо для поиска необходимых изображений. Вы также можете вписать свои слова для поиска, если собранных из текста данных недостаточно, или же Вы хотите добавить на обложку какие-либо дополнительные элементы.\n",
        "\n",
        "\n",
        "\n"
      ]
    },
    {
      "cell_type": "markdown",
      "metadata": {
        "id": "6wQi2t4W91WB"
      },
      "source": [
        "В зависмоти от выбранного Вами пути отметьте слова или словосочетания\n",
        "P.S. Не советуем выбирать сликшом много объектов, так как это увеличит время генерации изображений и итоговой обложки"
      ]
    },
    {
      "cell_type": "markdown",
      "metadata": {
        "id": "wkGM6JPhJYF8"
      },
      "source": [
        "# Сначала отметьте галочками все слова галочками, потом запустите ячейку кода"
      ]
    },
    {
      "cell_type": "code",
      "metadata": {
        "id": "FgMGelFcNDQ9",
        "colab": {
          "base_uri": "https://localhost:8080/"
        },
        "outputId": "ac750668-ecd8-46b8-d95d-5a23cd8dfcdf"
      },
      "source": [
        "#@title Выберите слова для поиска/генерации(для генерации иногда предпочтительнее использовать словосочетания)\n",
        "counter=1\n",
        "for i in list_stem_dict_end:\n",
        "  print(str(counter)+\" : \"+i)\n",
        "  counter+=1"
      ],
      "execution_count": null,
      "outputs": [
        {
          "output_type": "stream",
          "text": [
            "1 : процесс\n",
            "2 : в.\n",
            "3 : материальный\n",
            "4 : культурный\n",
            "5 : лишь\n",
            "6 : время\n",
            "7 : жизнь\n",
            "8 : цивилизация\n",
            "9 : мир\n",
            "10 : деятельность\n",
            "11 : являться\n",
            "12 : духовный\n",
            "13 : общество\n",
            "14 : научно-технический\n",
            "15 : техника\n",
            "16 : \n",
            "17 : развитие\n",
            "18 : прогресс\n",
            "19 : человек\n",
            "20 : культура\n"
          ],
          "name": "stdout"
        }
      ]
    },
    {
      "cell_type": "code",
      "metadata": {
        "id": "oSKi5VSS9x0T",
        "cellView": "form"
      },
      "source": [
        "#@title Выбор слов\n",
        "\n",
        "my_file1 = open('/content/text_words.txt', 'a')\n",
        "one = False #@param {type:\"boolean\"}\n",
        "if one==True:\n",
        "  my_file1.write(list_stem_dict_end[0]+'\\n')\n",
        "two = False #@param {type:\"boolean\"}\n",
        "if two==True:\n",
        "  my_file1.write(list_stem_dict_end[1]+'\\n')\n",
        "three = False #@param {type:\"boolean\"}\n",
        "if three==True:\n",
        "  my_file1.write(list_stem_dict_end[2]+'\\n')\n",
        "four = False #@param {type:\"boolean\"}\n",
        "if four==True:\n",
        "  my_file1.write(list_stem_dict_end[3]+'\\n')\n",
        "five = False #@param {type:\"boolean\"}\n",
        "if five==True:\n",
        "  my_file1.write(list_stem_dict_end[4]+'\\n')\n",
        "six = False #@param {type:\"boolean\"}\n",
        "if six==True:\n",
        "  my_file1.write(list_stem_dict_end[5]+'\\n')\n",
        "seven = False #@param {type:\"boolean\"}\n",
        "if seven==True:\n",
        "  my_file1.write(list_stem_dict_end[6]+'\\n')\n",
        "eight = False #@param {type:\"boolean\"}\n",
        "if eight==True:\n",
        "  my_file1.write(list_stem_dict_end[7]+'\\n')\n",
        "night= False #@param {type:\"boolean\"}\n",
        "if night==True:\n",
        "  my_file1.write(list_stem_dict_end[8]+'\\n')\n",
        "ten= False #@param {type:\"boolean\"}\n",
        "if ten==True:\n",
        "  my_file1.write(list_stem_dict_end[9]+'\\n')\n",
        "eleven= False #@param {type:\"boolean\"}\n",
        "if eleven==True:\n",
        "  my_file1.write(list_stem_dict_end[10]+'\\n')\n",
        "twelve= False #@param {type:\"boolean\"}\n",
        "if twelve==True:\n",
        "  my_file1.write(list_stem_dict_end[11]+'\\n')\n",
        "thirteen= False #@param {type:\"boolean\"}\n",
        "if thirteen==True:\n",
        "  my_file1.write(list_stem_dict_end[12]+'\\n')\n",
        "fourteen= False #@param {type:\"boolean\"}\n",
        "if fourteen==True:\n",
        "  my_file1.write(list_stem_dict_end[13]+'\\n')\n",
        "fifteen= False #@param {type:\"boolean\"}\n",
        "if fifteen==True:\n",
        "  my_file1.write(list_stem_dict_end[14]+'\\n')\n",
        "sixteen= False #@param {type:\"boolean\"}\n",
        "if sixteen==True:\n",
        "  my_file1.write(list_stem_dict_end[15]+'\\n')\n",
        "seventeen= False #@param {type:\"boolean\"}\n",
        "if seventeen==True:\n",
        "  my_file1.write(list_stem_dict_end[16]+'\\n')\n",
        "eighteen= True #@param {type:\"boolean\"}\n",
        "if eighteen==True:\n",
        "  my_file1.write(list_stem_dict_end[17]+'\\n')\n",
        "nineteen= True #@param {type:\"boolean\"}\n",
        "if nineteen==True:\n",
        "  my_file1.write(list_stem_dict_end[18]+'\\n')\n",
        "twenty= True #@param {type:\"boolean\"}\n",
        "if twenty==True:\n",
        "  my_file1.write(list_stem_dict_end[19]+'\\n')\n",
        "my_file1.close()\n",
        "\n"
      ],
      "execution_count": null,
      "outputs": []
    },
    {
      "cell_type": "code",
      "metadata": {
        "id": "8eAM9rhxWtYu",
        "cellView": "form"
      },
      "source": [
        "#@title Описание персонажей/объектов (введите слово)\n",
        "the_object_description = \"\\u041B\\u0435\\u0432 \\u041D\\u0438\\u043A\\u043E\\u043B\\u0430\\u0435\\u0432\\u0438\\u0447 \\u0422\\u043E\\u043B\\u0441\\u0442\\u043E\\u0439\" #@param {type:\"string\"}\n",
        "\n",
        "my_file1 = open('/content/text_words.txt', 'a')\n",
        "my_file.write(the_object_description+'\\n')\n",
        "my_file.close()\n",
        "\n"
      ],
      "execution_count": null,
      "outputs": []
    },
    {
      "cell_type": "markdown",
      "metadata": {
        "id": "Fte5Fqm3Nakb"
      },
      "source": [
        "# Выбор словосочетаний"
      ]
    },
    {
      "cell_type": "code",
      "metadata": {
        "id": "caWTY64SO3dM",
        "colab": {
          "base_uri": "https://localhost:8080/"
        },
        "outputId": "afd60911-4a56-41be-e6ab-23902dbe0949"
      },
      "source": [
        "#@title Выберите словосочетания для поиска/генерации изображений\n",
        "counter=1\n",
        "for i in list_ngrams_dict_end:\n",
        "  print(str(counter)+\" : \"+i)\n",
        "  counter+=1"
      ],
      "execution_count": null,
      "outputs": [
        {
          "output_type": "stream",
          "text": [
            "1 : культура цивилизация\n",
            "2 : реализация духовный\n",
            "3 : материальный культура\n",
            "4 : культурный деятельность\n",
            "5 : индустриальный прогресс\n",
            "6 : режим доступ\n",
            "7 : дата доступ\n",
            "8 : доступ http\n",
            "9 : такой образ\n",
            "10 : духовный ценность\n",
            "11 : xix в.\n",
            "12 : картина мир\n",
            "13 : развитие культура\n",
            "14 : деятельность человек\n",
            "15 : развитие наука\n",
            "16 : материальный духовный\n",
            "17 : духовный культура\n",
            "18 : наука техника\n",
            "19 : научно-технический прогресс\n",
            "20 : технический прогресс\n"
          ],
          "name": "stdout"
        }
      ]
    },
    {
      "cell_type": "code",
      "metadata": {
        "id": "wckPzy7iPv1b",
        "cellView": "form"
      },
      "source": [
        "#@title Выбор словосочетаний\n",
        "\n",
        "my_file2 = open('/content/phrases.txt', 'a')\n",
        "one = False #@param {type:\"boolean\"}\n",
        "if one==True:\n",
        "  my_file2.write(list_ngrams_dict_end[0]+'\\n')\n",
        "two = False #@param {type:\"boolean\"}\n",
        "if two==True:\n",
        "  my_file2.write(list_ngrams_dict_end[1]+'\\n')\n",
        "three = False #@param {type:\"boolean\"}\n",
        "if three==True:\n",
        "  my_file2.write(list_ngrams_dict_end[2]+'\\n')\n",
        "four = False #@param {type:\"boolean\"}\n",
        "if four==True:\n",
        "  my_file2.write(list_ngrams_dict_end[3]+'\\n')\n",
        "five = False #@param {type:\"boolean\"}\n",
        "if five==True:\n",
        "  my_file2.write(list_ngrams_dict_end[4]+'\\n')\n",
        "six = False #@param {type:\"boolean\"}\n",
        "if six==True:\n",
        "  my_file2.write(list_ngrams_dict_end[5]+'\\n')\n",
        "seven = False #@param {type:\"boolean\"}\n",
        "if seven==True:\n",
        "  my_file2.write(list_ngrams_dict_end[6]+'\\n')\n",
        "eight = False #@param {type:\"boolean\"}\n",
        "if eight==True:\n",
        "  my_file2.write(list_ngrams_dict_end[7]+'\\n')\n",
        "night= False #@param {type:\"boolean\"}\n",
        "if night==True:\n",
        "  my_file2.write(list_ngrams_dict_end[8]+'\\n')\n",
        "ten= False #@param {type:\"boolean\"}\n",
        "if ten==True:\n",
        "  my_file2.write(list_ngrams_dict_end[9]+'\\n')\n",
        "eleven= False #@param {type:\"boolean\"}\n",
        "if eleven==True:\n",
        "  my_file2.write(list_ngrams_dict_end[10]+'\\n')\n",
        "twelve= False #@param {type:\"boolean\"}\n",
        "if twelve==True:\n",
        "  my_file2.write(list_ngrams_dict_end[11]+'\\n')\n",
        "thirteen= False #@param {type:\"boolean\"}\n",
        "if thirteen==True:\n",
        "  my_file2.write(list_ngrams_dict_end[12]+'\\n')\n",
        "fourteen= False #@param {type:\"boolean\"}\n",
        "if fourteen==True:\n",
        "  my_file2.write(list_ngrams_dict_end[13]+'\\n')\n",
        "fifteen= True #@param {type:\"boolean\"}\n",
        "if fifteen==True:\n",
        "  my_file2.write(list_ngrams_dict_end[14]+'\\n')\n",
        "sixteen= False #@param {type:\"boolean\"}\n",
        "if sixteen==True:\n",
        "  my_file2.write(list_ngrams_dict_end[15]+'\\n')\n",
        "seventeen= False #@param {type:\"boolean\"}\n",
        "if seventeen==True:\n",
        "  my_file2.write(list_ngrams_dict_end[16]+'\\n')\n",
        "eighteen= False #@param {type:\"boolean\"}\n",
        "if eighteen==True:\n",
        "  my_file2.write(list_ngrams_dict_end[17]+'\\n')\n",
        "nineteen= True #@param {type:\"boolean\"}\n",
        "if nineteen==True:\n",
        "  my_file2.write(list_ngrams_dict_end[18]+'\\n')\n",
        "twenty= False #@param {type:\"boolean\"}\n",
        "if twenty==True:\n",
        "  my_file2.write(list_ngrams_dict_end[19]+'\\n')\n",
        "my_file2.close()\n"
      ],
      "execution_count": null,
      "outputs": []
    },
    {
      "cell_type": "code",
      "metadata": {
        "id": "1TBgtM09Sdwg",
        "cellView": "form"
      },
      "source": [
        "#@title Напишите словосочетания для поиска/генерации изображений\n",
        "the_object_description = \"\\u041B\\u0435\\u0432 \\u041D\\u0438\\u043A\\u043E\\u043B\\u0430\\u0435\\u0432\\u0438\\u0447 \\u0422\\u043E\\u043B\\u0441\\u0442\\u043E\\u0439\" #@param {type:\"string\"}\n",
        "\n",
        "my_file1 = open('/content/phrases.txt', 'a')\n",
        "my_file1.write(the_object_description+'\\n')\n",
        "my_file1.close()\n"
      ],
      "execution_count": null,
      "outputs": []
    },
    {
      "cell_type": "markdown",
      "metadata": {
        "id": "up144t3rXeGQ"
      },
      "source": [
        "# Поиск изображений в интернете"
      ]
    },
    {
      "cell_type": "code",
      "metadata": {
        "id": "wKOA95hMXiNm",
        "colab": {
          "base_uri": "https://localhost:8080/"
        },
        "outputId": "bfaf5a72-af9b-415b-acf6-304125030ee3"
      },
      "source": [
        "!pip install googletrans\n",
        "from googletrans import Translator\n",
        "translator = Translator()"
      ],
      "execution_count": null,
      "outputs": [
        {
          "output_type": "stream",
          "text": [
            "Collecting googletrans\n",
            "  Downloading https://files.pythonhosted.org/packages/71/3a/3b19effdd4c03958b90f40fe01c93de6d5280e03843cc5adf6956bfc9512/googletrans-3.0.0.tar.gz\n",
            "Collecting httpx==0.13.3\n",
            "\u001b[?25l  Downloading https://files.pythonhosted.org/packages/54/b4/698b284c6aed4d7c2b4fe3ba5df1fcf6093612423797e76fbb24890dd22f/httpx-0.13.3-py3-none-any.whl (55kB)\n",
            "\u001b[K     |████████████████████████████████| 61kB 3.0MB/s \n",
            "\u001b[?25hCollecting httpcore==0.9.*\n",
            "\u001b[?25l  Downloading https://files.pythonhosted.org/packages/dd/d5/e4ff9318693ac6101a2095e580908b591838c6f33df8d3ee8dd953ba96a8/httpcore-0.9.1-py3-none-any.whl (42kB)\n",
            "\u001b[K     |████████████████████████████████| 51kB 5.1MB/s \n",
            "\u001b[?25hRequirement already satisfied: idna==2.* in /usr/local/lib/python3.6/dist-packages (from httpx==0.13.3->googletrans) (2.10)\n",
            "Requirement already satisfied: chardet==3.* in /usr/local/lib/python3.6/dist-packages (from httpx==0.13.3->googletrans) (3.0.4)\n",
            "Collecting sniffio\n",
            "  Downloading https://files.pythonhosted.org/packages/52/b0/7b2e028b63d092804b6794595871f936aafa5e9322dcaaad50ebf67445b3/sniffio-1.2.0-py3-none-any.whl\n",
            "Collecting rfc3986<2,>=1.3\n",
            "  Downloading https://files.pythonhosted.org/packages/78/be/7b8b99fd74ff5684225f50dd0e865393d2265656ef3b4ba9eaaaffe622b8/rfc3986-1.4.0-py2.py3-none-any.whl\n",
            "Collecting hstspreload\n",
            "\u001b[?25l  Downloading https://files.pythonhosted.org/packages/fe/f4/a290dfbc9cfebf7957c63e8caca5b80caddfd1d7721821a3e8b40a399923/hstspreload-2020.10.20-py3-none-any.whl (972kB)\n",
            "\u001b[K     |████████████████████████████████| 972kB 7.1MB/s \n",
            "\u001b[?25hRequirement already satisfied: certifi in /usr/local/lib/python3.6/dist-packages (from httpx==0.13.3->googletrans) (2020.6.20)\n",
            "Collecting h2==3.*\n",
            "\u001b[?25l  Downloading https://files.pythonhosted.org/packages/25/de/da019bcc539eeab02f6d45836f23858ac467f584bfec7a526ef200242afe/h2-3.2.0-py2.py3-none-any.whl (65kB)\n",
            "\u001b[K     |████████████████████████████████| 71kB 7.3MB/s \n",
            "\u001b[?25hCollecting h11<0.10,>=0.8\n",
            "\u001b[?25l  Downloading https://files.pythonhosted.org/packages/5a/fd/3dad730b0f95e78aeeb742f96fa7bbecbdd56a58e405d3da440d5bfb90c6/h11-0.9.0-py2.py3-none-any.whl (53kB)\n",
            "\u001b[K     |████████████████████████████████| 61kB 6.2MB/s \n",
            "\u001b[?25hCollecting contextvars>=2.1; python_version < \"3.7\"\n",
            "  Downloading https://files.pythonhosted.org/packages/83/96/55b82d9f13763be9d672622e1b8106c85acb83edd7cc2fa5bc67cd9877e9/contextvars-2.4.tar.gz\n",
            "Collecting hyperframe<6,>=5.2.0\n",
            "  Downloading https://files.pythonhosted.org/packages/19/0c/bf88182bcb5dce3094e2f3e4fe20db28a9928cb7bd5b08024030e4b140db/hyperframe-5.2.0-py2.py3-none-any.whl\n",
            "Collecting hpack<4,>=3.0\n",
            "  Downloading https://files.pythonhosted.org/packages/8a/cc/e53517f4a1e13f74776ca93271caef378dadec14d71c61c949d759d3db69/hpack-3.0.0-py2.py3-none-any.whl\n",
            "Collecting immutables>=0.9\n",
            "\u001b[?25l  Downloading https://files.pythonhosted.org/packages/99/e0/ea6fd4697120327d26773b5a84853f897a68e33d3f9376b00a8ff96e4f63/immutables-0.14-cp36-cp36m-manylinux1_x86_64.whl (98kB)\n",
            "\u001b[K     |████████████████████████████████| 102kB 7.2MB/s \n",
            "\u001b[?25hBuilding wheels for collected packages: googletrans, contextvars\n",
            "  Building wheel for googletrans (setup.py) ... \u001b[?25l\u001b[?25hdone\n",
            "  Created wheel for googletrans: filename=googletrans-3.0.0-cp36-none-any.whl size=15736 sha256=a5b569ac4f49c08adb5d2acc4fb8a1bd5ebdc405708b46bf8752f47f3d336999\n",
            "  Stored in directory: /root/.cache/pip/wheels/28/1a/a7/eaf4d7a3417a0c65796c547cff4deb6d79c7d14c2abd29273e\n",
            "  Building wheel for contextvars (setup.py) ... \u001b[?25l\u001b[?25hdone\n",
            "  Created wheel for contextvars: filename=contextvars-2.4-cp36-none-any.whl size=7666 sha256=4e010f1c57d42a4ed36acf488381f330d522a89b6f3a3469996abeb5709c00f0\n",
            "  Stored in directory: /root/.cache/pip/wheels/a5/7d/68/1ebae2668bda2228686e3c1cf16f2c2384cea6e9334ad5f6de\n",
            "Successfully built googletrans contextvars\n",
            "Installing collected packages: hyperframe, hpack, h2, immutables, contextvars, sniffio, h11, httpcore, rfc3986, hstspreload, httpx, googletrans\n",
            "Successfully installed contextvars-2.4 googletrans-3.0.0 h11-0.9.0 h2-3.2.0 hpack-3.0.0 hstspreload-2020.10.20 httpcore-0.9.1 httpx-0.13.3 hyperframe-5.2.0 immutables-0.14 rfc3986-1.4.0 sniffio-1.2.0\n"
          ],
          "name": "stdout"
        }
      ]
    },
    {
      "cell_type": "code",
      "metadata": {
        "id": "u2drUDWXYAhL",
        "colab": {
          "base_uri": "https://localhost:8080/",
          "height": 374
        },
        "outputId": "4d0edc41-54cd-44b2-da07-ed026707e77d"
      },
      "source": [
        "my_file2 = open('/content/phrases.txt')\n",
        "my_file3 = open('/content/phrases_english.txt', 'a')\n",
        "my_file1 = open('/content/text_words.txt')\n",
        "my_file4=open('/content/text_words_english.txt', 'a')\n",
        "for line in my_file2:\n",
        "  result = translator.translate(line)\n",
        "  r=result.text\n",
        "  my_file3.write(r+\"\\n\")\n",
        "for line in my_file1:\n",
        "  result = translator.translate(line)\n",
        "  r=result.text\n",
        "  my_file4.write(r+\"\\n\")\n",
        "my_file2.close()\n",
        "my_file3.close()\n",
        "my_file1.close()\n",
        "my_file4.close()"
      ],
      "execution_count": null,
      "outputs": [
        {
          "output_type": "error",
          "ename": "AttributeError",
          "evalue": "ignored",
          "traceback": [
            "\u001b[0;31m---------------------------------------------------------------------------\u001b[0m",
            "\u001b[0;31mAttributeError\u001b[0m                            Traceback (most recent call last)",
            "\u001b[0;32m<ipython-input-39-5a1727b6e27c>\u001b[0m in \u001b[0;36m<module>\u001b[0;34m()\u001b[0m\n\u001b[1;32m      4\u001b[0m \u001b[0mmy_file4\u001b[0m\u001b[0;34m=\u001b[0m\u001b[0mopen\u001b[0m\u001b[0;34m(\u001b[0m\u001b[0;34m'/content/text_words_english.txt'\u001b[0m\u001b[0;34m,\u001b[0m \u001b[0;34m'a'\u001b[0m\u001b[0;34m)\u001b[0m\u001b[0;34m\u001b[0m\u001b[0;34m\u001b[0m\u001b[0m\n\u001b[1;32m      5\u001b[0m \u001b[0;32mfor\u001b[0m \u001b[0mline\u001b[0m \u001b[0;32min\u001b[0m \u001b[0mmy_file2\u001b[0m\u001b[0;34m:\u001b[0m\u001b[0;34m\u001b[0m\u001b[0;34m\u001b[0m\u001b[0m\n\u001b[0;32m----> 6\u001b[0;31m   \u001b[0mresult\u001b[0m \u001b[0;34m=\u001b[0m \u001b[0mtranslator\u001b[0m\u001b[0;34m.\u001b[0m\u001b[0mtranslate\u001b[0m\u001b[0;34m(\u001b[0m\u001b[0mline\u001b[0m\u001b[0;34m)\u001b[0m\u001b[0;34m\u001b[0m\u001b[0;34m\u001b[0m\u001b[0m\n\u001b[0m\u001b[1;32m      7\u001b[0m   \u001b[0mr\u001b[0m\u001b[0;34m=\u001b[0m\u001b[0mresult\u001b[0m\u001b[0;34m.\u001b[0m\u001b[0mtext\u001b[0m\u001b[0;34m\u001b[0m\u001b[0;34m\u001b[0m\u001b[0m\n\u001b[1;32m      8\u001b[0m   \u001b[0mmy_file3\u001b[0m\u001b[0;34m.\u001b[0m\u001b[0mwrite\u001b[0m\u001b[0;34m(\u001b[0m\u001b[0mr\u001b[0m\u001b[0;34m+\u001b[0m\u001b[0;34m\"\\n\"\u001b[0m\u001b[0;34m)\u001b[0m\u001b[0;34m\u001b[0m\u001b[0;34m\u001b[0m\u001b[0m\n",
            "\u001b[0;32m/usr/local/lib/python3.6/dist-packages/googletrans/client.py\u001b[0m in \u001b[0;36mtranslate\u001b[0;34m(self, text, dest, src, **kwargs)\u001b[0m\n\u001b[1;32m    180\u001b[0m \u001b[0;34m\u001b[0m\u001b[0m\n\u001b[1;32m    181\u001b[0m         \u001b[0morigin\u001b[0m \u001b[0;34m=\u001b[0m \u001b[0mtext\u001b[0m\u001b[0;34m\u001b[0m\u001b[0;34m\u001b[0m\u001b[0m\n\u001b[0;32m--> 182\u001b[0;31m         \u001b[0mdata\u001b[0m \u001b[0;34m=\u001b[0m \u001b[0mself\u001b[0m\u001b[0;34m.\u001b[0m\u001b[0m_translate\u001b[0m\u001b[0;34m(\u001b[0m\u001b[0mtext\u001b[0m\u001b[0;34m,\u001b[0m \u001b[0mdest\u001b[0m\u001b[0;34m,\u001b[0m \u001b[0msrc\u001b[0m\u001b[0;34m,\u001b[0m \u001b[0mkwargs\u001b[0m\u001b[0;34m)\u001b[0m\u001b[0;34m\u001b[0m\u001b[0;34m\u001b[0m\u001b[0m\n\u001b[0m\u001b[1;32m    183\u001b[0m \u001b[0;34m\u001b[0m\u001b[0m\n\u001b[1;32m    184\u001b[0m         \u001b[0;31m# this code will be updated when the format is changed.\u001b[0m\u001b[0;34m\u001b[0m\u001b[0;34m\u001b[0m\u001b[0;34m\u001b[0m\u001b[0m\n",
            "\u001b[0;32m/usr/local/lib/python3.6/dist-packages/googletrans/client.py\u001b[0m in \u001b[0;36m_translate\u001b[0;34m(self, text, dest, src, override)\u001b[0m\n\u001b[1;32m     76\u001b[0m \u001b[0;34m\u001b[0m\u001b[0m\n\u001b[1;32m     77\u001b[0m     \u001b[0;32mdef\u001b[0m \u001b[0m_translate\u001b[0m\u001b[0;34m(\u001b[0m\u001b[0mself\u001b[0m\u001b[0;34m,\u001b[0m \u001b[0mtext\u001b[0m\u001b[0;34m,\u001b[0m \u001b[0mdest\u001b[0m\u001b[0;34m,\u001b[0m \u001b[0msrc\u001b[0m\u001b[0;34m,\u001b[0m \u001b[0moverride\u001b[0m\u001b[0;34m)\u001b[0m\u001b[0;34m:\u001b[0m\u001b[0;34m\u001b[0m\u001b[0;34m\u001b[0m\u001b[0m\n\u001b[0;32m---> 78\u001b[0;31m         \u001b[0mtoken\u001b[0m \u001b[0;34m=\u001b[0m \u001b[0mself\u001b[0m\u001b[0;34m.\u001b[0m\u001b[0mtoken_acquirer\u001b[0m\u001b[0;34m.\u001b[0m\u001b[0mdo\u001b[0m\u001b[0;34m(\u001b[0m\u001b[0mtext\u001b[0m\u001b[0;34m)\u001b[0m\u001b[0;34m\u001b[0m\u001b[0;34m\u001b[0m\u001b[0m\n\u001b[0m\u001b[1;32m     79\u001b[0m         params = utils.build_params(query=text, src=src, dest=dest,\n\u001b[1;32m     80\u001b[0m                                     token=token, override=override)\n",
            "\u001b[0;32m/usr/local/lib/python3.6/dist-packages/googletrans/gtoken.py\u001b[0m in \u001b[0;36mdo\u001b[0;34m(self, text)\u001b[0m\n\u001b[1;32m    192\u001b[0m \u001b[0;34m\u001b[0m\u001b[0m\n\u001b[1;32m    193\u001b[0m     \u001b[0;32mdef\u001b[0m \u001b[0mdo\u001b[0m\u001b[0;34m(\u001b[0m\u001b[0mself\u001b[0m\u001b[0;34m,\u001b[0m \u001b[0mtext\u001b[0m\u001b[0;34m)\u001b[0m\u001b[0;34m:\u001b[0m\u001b[0;34m\u001b[0m\u001b[0;34m\u001b[0m\u001b[0m\n\u001b[0;32m--> 194\u001b[0;31m         \u001b[0mself\u001b[0m\u001b[0;34m.\u001b[0m\u001b[0m_update\u001b[0m\u001b[0;34m(\u001b[0m\u001b[0;34m)\u001b[0m\u001b[0;34m\u001b[0m\u001b[0;34m\u001b[0m\u001b[0m\n\u001b[0m\u001b[1;32m    195\u001b[0m         \u001b[0mtk\u001b[0m \u001b[0;34m=\u001b[0m \u001b[0mself\u001b[0m\u001b[0;34m.\u001b[0m\u001b[0macquire\u001b[0m\u001b[0;34m(\u001b[0m\u001b[0mtext\u001b[0m\u001b[0;34m)\u001b[0m\u001b[0;34m\u001b[0m\u001b[0;34m\u001b[0m\u001b[0m\n\u001b[1;32m    196\u001b[0m         \u001b[0;32mreturn\u001b[0m \u001b[0mtk\u001b[0m\u001b[0;34m\u001b[0m\u001b[0;34m\u001b[0m\u001b[0m\n",
            "\u001b[0;32m/usr/local/lib/python3.6/dist-packages/googletrans/gtoken.py\u001b[0m in \u001b[0;36m_update\u001b[0;34m(self)\u001b[0m\n\u001b[1;32m     60\u001b[0m \u001b[0;34m\u001b[0m\u001b[0m\n\u001b[1;32m     61\u001b[0m         \u001b[0;31m# this will be the same as python code after stripping out a reserved word 'var'\u001b[0m\u001b[0;34m\u001b[0m\u001b[0;34m\u001b[0m\u001b[0;34m\u001b[0m\u001b[0m\n\u001b[0;32m---> 62\u001b[0;31m         \u001b[0mcode\u001b[0m \u001b[0;34m=\u001b[0m \u001b[0mself\u001b[0m\u001b[0;34m.\u001b[0m\u001b[0mRE_TKK\u001b[0m\u001b[0;34m.\u001b[0m\u001b[0msearch\u001b[0m\u001b[0;34m(\u001b[0m\u001b[0mr\u001b[0m\u001b[0;34m.\u001b[0m\u001b[0mtext\u001b[0m\u001b[0;34m)\u001b[0m\u001b[0;34m.\u001b[0m\u001b[0mgroup\u001b[0m\u001b[0;34m(\u001b[0m\u001b[0;36m1\u001b[0m\u001b[0;34m)\u001b[0m\u001b[0;34m.\u001b[0m\u001b[0mreplace\u001b[0m\u001b[0;34m(\u001b[0m\u001b[0;34m'var '\u001b[0m\u001b[0;34m,\u001b[0m \u001b[0;34m''\u001b[0m\u001b[0;34m)\u001b[0m\u001b[0;34m\u001b[0m\u001b[0;34m\u001b[0m\u001b[0m\n\u001b[0m\u001b[1;32m     63\u001b[0m         \u001b[0;31m# unescape special ascii characters such like a \\x3d(=)\u001b[0m\u001b[0;34m\u001b[0m\u001b[0;34m\u001b[0m\u001b[0;34m\u001b[0m\u001b[0m\n\u001b[1;32m     64\u001b[0m         \u001b[0mcode\u001b[0m \u001b[0;34m=\u001b[0m \u001b[0mcode\u001b[0m\u001b[0;34m.\u001b[0m\u001b[0mencode\u001b[0m\u001b[0;34m(\u001b[0m\u001b[0;34m)\u001b[0m\u001b[0;34m.\u001b[0m\u001b[0mdecode\u001b[0m\u001b[0;34m(\u001b[0m\u001b[0;34m'unicode-escape'\u001b[0m\u001b[0;34m)\u001b[0m\u001b[0;34m\u001b[0m\u001b[0;34m\u001b[0m\u001b[0m\n",
            "\u001b[0;31mAttributeError\u001b[0m: 'NoneType' object has no attribute 'group'"
          ]
        }
      ]
    },
    {
      "cell_type": "code",
      "metadata": {
        "id": "j4hD83yrZlRu"
      },
      "source": [
        "import requests \n",
        "from bs4 import BeautifulSoup\n",
        "import os"
      ],
      "execution_count": null,
      "outputs": []
    },
    {
      "cell_type": "code",
      "metadata": {
        "id": "6STukKEozgW5"
      },
      "source": [
        "import re\n",
        "import sys\n",
        "import http.cookiejar\n",
        "import json\n",
        "import urllib.request, urllib.error, urllib.parse"
      ],
      "execution_count": null,
      "outputs": []
    },
    {
      "cell_type": "code",
      "metadata": {
        "id": "ofRAf6nozlS8"
      },
      "source": [
        "def get_soup(url,header):\n",
        "    #return BeautifulSoup(urllib2.urlopen(urllib2.Request(url,headers=header)),\n",
        "    # 'html.parser')\n",
        "    return BeautifulSoup(urllib.request.urlopen(\n",
        "        urllib.request.Request(url,headers=header)),\n",
        "        'html.parser')\n",
        "DIR=\"Pictures\"\n",
        "header={'User-Agent':\"Mozilla/5.0 (Windows NT 6.1; WOW64) AppleWebKit/537.36 (KHTML, like Gecko) Chrome/43.0.2357.134 Safari/537.36\"}"
      ],
      "execution_count": null,
      "outputs": []
    },
    {
      "cell_type": "code",
      "metadata": {
        "id": "y87ZcBQA1Edv"
      },
      "source": [
        "os.mkdir(\"parser_photos\")"
      ],
      "execution_count": null,
      "outputs": []
    },
    {
      "cell_type": "code",
      "metadata": {
        "id": "71RgDO5WkgWM",
        "colab": {
          "base_uri": "https://localhost:8080/"
        },
        "outputId": "69ba5df3-e2b6-45de-ebb8-b07181041583"
      },
      "source": [
        "#@title Поиск изображений по словам\n",
        "i=1\n",
        "\n",
        "links=[]\n",
        "\n",
        "my_file1=open('/content/text_words_english.txt')\n",
        "for line in my_file1:\n",
        "  url=\"https://gratisography.com/?s=\"+line.split()[0]\n",
        "  url2=\"https://isorepublic.com/?s=\"+line.split()[0]\n",
        "  \n",
        "  print(url)\n",
        "  print(url2)\n",
        "\n",
        "  r2=requests.get(url)\n",
        "  r2_2=requests.get(url2)\n",
        "\n",
        "  print(r2)\n",
        "  print(r2_2)\n",
        "\n",
        "  soup2=BeautifulSoup(r2.text, \"lxml\")\n",
        "  soup2_2=BeautifulSoup(r2_2.text, \"lxml\")\n",
        " \n",
        "  #links=[]\n",
        "  x=soup2.select('img[src^=\"https://gratisography.com/wp-content/uploads\"]')\n",
        "  x2=soup2_2.select('img[src^=\"https://isorepublic.com/wp-content/\"]')\n",
        "  for img in x:\n",
        "    links.append(img['src'])\n",
        "  for img in x2[1:]:\n",
        "    links.append(img['src'])\n",
        "print(links)\n",
        "  \n",
        "for index, img_link in enumerate(links):\n",
        "  img_data=requests.get(img_link).content\n",
        "  with open(\"/content/parser_photos/\"+str(index+1)+\".jpg\",\"wb+\") as f:\n",
        "    f.write(img_data)\n",
        "  i+=1\n",
        "  \n",
        "links=[]\n",
        "\n",
        "my_file1.close()"
      ],
      "execution_count": null,
      "outputs": [
        {
          "output_type": "stream",
          "text": [
            "[]\n"
          ],
          "name": "stdout"
        }
      ]
    },
    {
      "cell_type": "code",
      "metadata": {
        "id": "U9mlbW5FyYjg"
      },
      "source": [
        "my_file1=open('/content/text_words_english.txt')\n",
        "for line in my_file1:\n",
        "  query = line.split()[0]\n",
        "  url=\"http://www.bing.com/images/search?q=\" + query + \"&FORM=HDRSC2\"\n",
        "  #query=\"\"\n",
        "  soup = get_soup(url,header)\n",
        "  ActualImages=[]# contains the link for Large original images, type of  image\n",
        "  for a in soup.find_all(\"a\",{\"class\":\"iusc\"}):\n",
        "     print(a)\n",
        "     m = json.loads(a[\"m\"])\n",
        "     murl = m[\"murl\"]\n",
        "     turl = m[\"turl\"]\n",
        "     \n",
        "     image_name = urllib.parse.urlsplit(murl).path.split(\"/\")[-1]\n",
        "     print(image_name)\n",
        "     ActualImages.append((image_name, turl, murl))\n",
        "  print(\"there are total\" , len(ActualImages),\"images\")\n",
        "  if not os.path.exists(DIR):\n",
        "    os.mkdir(DIR)\n",
        "    \n",
        "  DIR = os.path.join(DIR, query.split()[0])\n",
        "  if not os.path.exists(DIR):\n",
        "    os.mkdir(DIR)\n",
        "    \n",
        "  for i, (image_name, turl, murl) in enumerate(ActualImages):\n",
        "    try:\n",
        "        #req = urllib2.Request(turl, headers={'User-Agent' : header})\n",
        "        #raw_img = urllib2.urlopen(req).read()\n",
        "        #req = urllib.request.Request(turl, headers={'User-Agent' : header})\n",
        "        raw_img = urllib.request.urlopen(turl).read()\n",
        "\n",
        "        cntr = len([i for i in os.listdir(DIR) if image_name in i]) + 1\n",
        "        #print cntr\n",
        "\n",
        "        f = open(os.path.join(DIR, image_name), 'wb')\n",
        "        f.write(raw_img)\n",
        "        f.close()\n",
        "    except Exception as e:\n",
        "        print(\"could not load : \" + image_name)\n",
        "        print(e)\n",
        "my_file1.close()"
      ],
      "execution_count": null,
      "outputs": []
    },
    {
      "cell_type": "code",
      "metadata": {
        "id": "XzmAKqHfZr7v",
        "cellView": "code",
        "colab": {
          "base_uri": "https://localhost:8080/"
        },
        "outputId": "9a01e669-b5bd-41ab-8821-96fc7dec9d58"
      },
      "source": [
        "#@title Поиск изображений по фразам\n",
        "#os.mkdir(\"parser_photos\")\n",
        "#i=1\n",
        "\n",
        "links=[]\n",
        "\n",
        "my_file1=open('/content/phrases_english.txt')\n",
        "for line in my_file1:\n",
        "  url=\"https://gratisography.com/?s=\"+line.split()[0]+\"+\"+line.split()[1]+\"+\"+\"png\"\n",
        "  url2=\"https://isorepublic.com/?s=\"+line.split()[0]+\"+\"+line.split()[1]+\"+\"+\"png\"\n",
        "  \n",
        "  print(url)\n",
        "  print(url2)\n",
        "\n",
        "  r2=requests.get(url)\n",
        "  r2_2=requests.get(url2)\n",
        "\n",
        "  print(r2)\n",
        "  print(r2_2)\n",
        "\n",
        "  soup2=BeautifulSoup(r2.text, \"lxml\")\n",
        "  soup2_2=BeautifulSoup(r2_2.text, \"lxml\")\n",
        "\n",
        "  #links=[]\n",
        "  x=soup2.select('img[src^=\"https://gratisography.com/wp-content/uploads\"]')\n",
        "  x2=soup2_2.select('img[src^=\"https://isorepublic.com/wp-content/\"]')\n",
        "  for img in x:\n",
        "    links.append(img['src'])\n",
        "  for img in x2[1:]:\n",
        "    links.append(img['src'])\n",
        "print(links)\n",
        "  \n",
        "for index, img_link in enumerate(links):\n",
        "  img_data=requests.get(img_link).content\n",
        "  with open(\"/content/parser_photos/\"+str(index+1)+\".jpg\",\"wb+\") as f:\n",
        "    f.write(img_data)\n",
        "  i+=1\n",
        "  \n",
        "links=[]\n",
        "\n",
        "my_file1.close()"
      ],
      "execution_count": null,
      "outputs": [
        {
          "output_type": "stream",
          "text": [
            "https://gratisography.com/?s=red+apple+png\n",
            "https://isorepublic.com/?s=red+apple+png\n",
            "<Response [200]>\n",
            "<Response [200]>\n",
            "['https://gratisography.com/wp-content/uploads/2020/09/gratisography-scared-stiff-800x525.jpg', 'https://gratisography.com/wp-content/uploads/2019/01/gratisography-long-day-800x525.jpg', 'https://gratisography.com/wp-content/uploads/2018/05/gratisography-310H-800x525.jpg', 'https://gratisography.com/wp-content/uploads/2018/05/gratisography-334H-800x525.jpg', 'https://gratisography.com/wp-content/uploads/2018/05/gratisography-390H-800x525.jpg', 'https://gratisography.com/wp-content/uploads/2018/05/gratisography-2H-800x525.jpg', 'https://gratisography.com/wp-content/uploads/2018/05/gratisography-78H-800x525.jpg', 'https://gratisography.com/wp-content/uploads/2018/05/gratisography-105H-800x525.jpg', 'https://gratisography.com/wp-content/uploads/2018/05/gratisography-137H-800x525.jpg', 'https://gratisography.com/wp-content/uploads/2018/05/gratisography-156H-800x525.jpg', 'https://gratisography.com/wp-content/uploads/2018/05/gratisography-262H-800x525.jpg']\n"
          ],
          "name": "stdout"
        }
      ]
    },
    {
      "cell_type": "code",
      "metadata": {
        "id": "E2fbPvnIzH_K"
      },
      "source": [
        "my_file1=open('/content/phrases_english.txt')\n",
        "for line in my_file1:\n",
        "  query = line.split()[0]+\"+\"+line.split()[1]\n",
        "  url=\"http://www.bing.com/images/search?q=\" + query + \"&FORM=HDRSC2\"\n",
        "  #query=\"\"\n",
        "  soup = get_soup(url,header)\n",
        "  ActualImages=[]# contains the link for Large original images, type of  image\n",
        "  for a in soup.find_all(\"a\",{\"class\":\"iusc\"}):\n",
        "     print(a)\n",
        "     m = json.loads(a[\"m\"])\n",
        "     murl = m[\"murl\"]\n",
        "     turl = m[\"turl\"]\n",
        "     \n",
        "     image_name = urllib.parse.urlsplit(murl).path.split(\"/\")[-1]\n",
        "     print(image_name)\n",
        "     ActualImages.append((image_name, turl, murl))\n",
        "  print(\"there are total\" , len(ActualImages),\"images\")\n",
        "  if not os.path.exists(DIR):\n",
        "    os.mkdir(DIR)\n",
        "    \n",
        "  DIR = os.path.join(DIR, query.split()[0])\n",
        "  if not os.path.exists(DIR):\n",
        "    os.mkdir(DIR)\n",
        "    \n",
        "  for i, (image_name, turl, murl) in enumerate(ActualImages):\n",
        "    try:\n",
        "        #req = urllib2.Request(turl, headers={'User-Agent' : header})\n",
        "        #raw_img = urllib2.urlopen(req).read()\n",
        "        #req = urllib.request.Request(turl, headers={'User-Agent' : header})\n",
        "        raw_img = urllib.request.urlopen(turl).read()\n",
        "\n",
        "        cntr = len([i for i in os.listdir(DIR) if image_name in i]) + 1\n",
        "        #print cntr\n",
        "\n",
        "        f = open(os.path.join(DIR, image_name), 'wb')\n",
        "        f.write(raw_img)\n",
        "        f.close()\n",
        "    except Exception as e:\n",
        "        print(\"could not load : \" + image_name)\n",
        "        print(e)\n",
        "my_file1.close()"
      ],
      "execution_count": null,
      "outputs": []
    },
    {
      "cell_type": "code",
      "metadata": {
        "id": "SaPNB3PXzO1o"
      },
      "source": [
        "!zip -r pictures.zip /content/Pictures"
      ],
      "execution_count": null,
      "outputs": []
    },
    {
      "cell_type": "code",
      "metadata": {
        "id": "DfbiYeAme5FF",
        "colab": {
          "base_uri": "https://localhost:8080/"
        },
        "outputId": "edfc588c-af33-472a-fb88-db2a5920d094"
      },
      "source": [
        "!zip -r parser_photos /content/parser_photos"
      ],
      "execution_count": null,
      "outputs": [
        {
          "output_type": "stream",
          "text": [
            "updating: content/parser_photos/ (stored 0%)\n",
            "updating: content/parser_photos/5.jpg (deflated 0%)\n",
            "updating: content/parser_photos/6.jpg (deflated 0%)\n",
            "updating: content/parser_photos/4.jpg (deflated 0%)\n",
            "updating: content/parser_photos/9.jpg (deflated 0%)\n",
            "updating: content/parser_photos/8.jpg (deflated 1%)\n",
            "updating: content/parser_photos/12.jpg (deflated 1%)\n",
            "updating: content/parser_photos/11.jpg (deflated 0%)\n",
            "updating: content/parser_photos/13.jpg (deflated 0%)\n",
            "updating: content/parser_photos/10.jpg (deflated 1%)\n",
            "updating: content/parser_photos/2.jpg (deflated 0%)\n",
            "updating: content/parser_photos/3.jpg (deflated 3%)\n",
            "updating: content/parser_photos/7.jpg (deflated 3%)\n",
            "updating: content/parser_photos/1.jpg (deflated 2%)\n"
          ],
          "name": "stdout"
        }
      ]
    },
    {
      "cell_type": "code",
      "metadata": {
        "id": "CxzYoXEBVfQW",
        "colab": {
          "base_uri": "https://localhost:8080/"
        },
        "outputId": "9791ab5c-21eb-4240-bb79-5c266dd816d6"
      },
      "source": [
        "!sudo googleimagesdownload -kf text_words_english.txt --format jpg -l 10 -i \"parser_google_photos\""
      ],
      "execution_count": null,
      "outputs": [
        {
          "output_type": "stream",
          "text": [
            "\n",
            "Everything downloaded!\n",
            "Total errors: 0\n",
            "Total time taken: 0.00238800048828125 Seconds\n"
          ],
          "name": "stdout"
        }
      ]
    },
    {
      "cell_type": "code",
      "metadata": {
        "id": "Ded-5wo_0J2K",
        "colab": {
          "base_uri": "https://localhost:8080/"
        },
        "outputId": "8d8a2f5b-855a-43c4-963b-217468a82279"
      },
      "source": [
        "!sudo googleimagesdownload -kf phrases_english.txt --format png -l 10 -i \"parser_google_photos\""
      ],
      "execution_count": null,
      "outputs": [
        {
          "output_type": "stream",
          "text": [
            "\n",
            "Item no.: 1 --> Item name = red apple png\n",
            "Evaluating...\n",
            "Starting Download...\n",
            "Completed Image ====> 1.pngtree-cartoon-hand-drawn-plant-red-apple-transparent-png-image_372652.jpg\n",
            "Completed Image ====> 2.pngtree-vector-illustration-of-fresh-red-apple-with-single-leaf-png-image_3714100.jpg\n",
            "Completed Image ====> 3.103-1037796_red-apple-png-fresh-apple-fruit-png-transparent.png\n",
            "Completed Image ====> 4.kisspng-apple-red-delicious-granny-smith-gala-red-apple-5aa85059827037.3909536215209800575343.jpg\n",
            "Completed Image ====> 5.imgbin-red-apple-kcytepxshhg2djkhy03wii1id.jpg\n",
            "Completed Image ====> 6.0ba768d9aeb049c10dcee3a82d50692d.jpg\n",
            "Completed Image ====> 7.red-apple-fruit-apple-red-delicious-eating-fuji-large-green-red-apple-png-800_800.jpg\n",
            "Completed Image ====> 8.932-9328480_apples-png-image-red-apple-fruit.png\n",
            "Completed Image ====> 9.4f6cc46e50e7a0ff21c5e0a77423b0b5.jpg\n",
            "Completed Image ====> 10.red-red-apple-png-favpng-6y0edpfcusphrbhbwaxjedjey.jpg\n",
            "\n",
            "Errors: 0\n",
            "\n",
            "\n",
            "Everything downloaded!\n",
            "Total errors: 0\n",
            "Total time taken: 10.470645427703857 Seconds\n"
          ],
          "name": "stdout"
        }
      ]
    },
    {
      "cell_type": "code",
      "metadata": {
        "id": "brRoiB2h2UdT",
        "colab": {
          "base_uri": "https://localhost:8080/"
        },
        "outputId": "1b67ef86-bd7f-4fc2-9f9e-30f22b284235"
      },
      "source": [
        "!zip -r parser_google_photos /content/downloads/parser_google_photos"
      ],
      "execution_count": null,
      "outputs": [
        {
          "output_type": "stream",
          "text": [
            "updating: content/downloads/parser_google_photos/ (stored 0%)\n",
            "updating: content/downloads/parser_google_photos/4.child-development.jpg (deflated 1%)\n",
            "updating: content/downloads/parser_google_photos/6.man-life-stages-development-cartoon-illustration-different-cycle-growth-31181105.jpg (deflated 1%)\n",
            "updating: content/downloads/parser_google_photos/2.download.jpeg (deflated 1%)\n",
            "updating: content/downloads/parser_google_photos/2.science.jpg (deflated 13%)\n",
            "updating: content/downloads/parser_google_photos/8.f1.large.jpg (deflated 1%)\n",
            "updating: content/downloads/parser_google_photos/7.depositphotos_202416168-stock-illustration-high-speed-transportation-passengers-city.jpg (deflated 26%)\n",
            "updating: content/downloads/parser_google_photos/5.ms+growth+development+of+organisms+d.jpg (deflated 1%)\n",
            "updating: content/downloads/parser_google_photos/5.evolution_of_science.jpg (deflated 1%)\n",
            "updating: content/downloads/parser_google_photos/10.illustration-interior-science-base-nuclear-power-plant-in-flat-style-vector-flat-illustration-vector-clipart_csp39113009.jpg (deflated 6%)\n",
            "updating: content/downloads/parser_google_photos/4.500_f_192198417_0mdzcswezaq17dgjxxywkiqq9ctd1rws.jpg (deflated 5%)\n",
            "updating: content/downloads/parser_google_photos/1.gps_picture_1.jpg (deflated 1%)\n",
            "updating: content/downloads/parser_google_photos/3.international_conference_on_science_and_technology.jpg (deflated 7%)\n",
            "updating: content/downloads/parser_google_photos/9.sect3_image6.jpg (deflated 0%)\n",
            "updating: content/downloads/parser_google_photos/9.img_0188.jpg (deflated 4%)\n",
            "updating: content/downloads/parser_google_photos/10.0.jpg (deflated 0%)\n",
            "updating: content/downloads/parser_google_photos/3.thumb_121284.jpg (deflated 0%)\n",
            "updating: content/downloads/parser_google_photos/6.high-speed-transportation-of-passengers-from-the-city-to-the-airport-scientific-and-technical-progress-new-technology-my6ycn.jpg (deflated 15%)\n",
            "updating: content/downloads/parser_google_photos/8.90396842-space-icons-set-scientific-and-technical-progress.jpg (deflated 11%)\n",
            "updating: content/downloads/parser_google_photos/1.37415085-scientific-and-technical-progress-flat-design-.jpg (deflated 11%)\n",
            "updating: content/downloads/parser_google_photos/7.f1.large.jpg (deflated 1%)\n"
          ],
          "name": "stdout"
        }
      ]
    },
    {
      "cell_type": "code",
      "metadata": {
        "id": "b2YFKVfY9z8H"
      },
      "source": [
        "#@title Стилизация и редактирование изображений\n",
        "#@markdown Если Вы хотите получить картинку по примеру ниже, то перейдите по данной ссылке\n",
        "\n",
        "#@markdown https://colab.research.google.com/drive/1zPOC_NDBVA0z4tZW6-GdV2GDyEoATyMp\n",
        "\n"
      ],
      "execution_count": null,
      "outputs": []
    },
    {
      "cell_type": "markdown",
      "metadata": {
        "id": "Ihm4I31r-Pmb"
      },
      "source": [
        "![output.png](data:image/png;base64,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)"
      ]
    },
    {
      "cell_type": "markdown",
      "metadata": {
        "id": "X3pygmBoZOBO"
      },
      "source": [
        "Если же Вы хотите стилизовать изображения,как на картинке ниже, то перейдите по этой ссылке\n",
        "https://colab.research.google.com/drive/1V94QAkTBjkVPSQMKB27i5cunhRpBFLCa"
      ]
    },
    {
      "cell_type": "markdown",
      "metadata": {
        "id": "zRWx0boVZsbO"
      },
      "source": [
        "![st-basils-christian-cathedral-moscow-russia-1600x900.jpg](data:image/jpeg;base64,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)"
      ]
    },
    {
      "cell_type": "markdown",
      "metadata": {
        "id": "8MitN0ZzZFTt"
      },
      "source": [
        "Для того, чтобы выбрать шаблон обложки перейдите по этой ссылке \n",
        "https://colab.research.google.com/drive/1WpcWoRqSl09WWRBARRx_63IbcfZQDk6X#scrollTo=O1Pp5vX0UnII"
      ]
    },
    {
      "cell_type": "markdown",
      "metadata": {
        "id": "kFjn4QYJvr-B"
      },
      "source": [
        "# Подготовка к генерации изображений"
      ]
    },
    {
      "cell_type": "markdown",
      "metadata": {
        "id": "HKLOFPoKYZm5"
      },
      "source": [
        "Также стоит отметить, что не всегда фразы, выбранные Вами для скачивания изображений, подойдут для генерации изображений. Если при парсинге Вы можете выбирать сразу все объекты, которые хотите поместить на обложку, то для генерации все слова и словосочетания должны относиться к одному объекту. Поэтому Вы можете "
      ]
    },
    {
      "cell_type": "code",
      "metadata": {
        "id": "KvRftx4sdRr5"
      },
      "source": [
        "!sudo googleimagesdownload -kf text_words.txt --format jpg -i \"generation_google_photos\"\n",
        "!sudo googleimagesdownload -kf text_words_english.txt --format jpg -i \"generation_google_photos\"\n",
        "!sudo googleimagesdownload -kf phrases.txt --format png -i \"generation_google_photos\"\n",
        "!sudo googleimagesdownload -kf phrases_english.txt --format png -i \"generation_google_photos\""
      ],
      "execution_count": null,
      "outputs": []
    },
    {
      "cell_type": "code",
      "metadata": {
        "id": "pEhWqTNtd9ME"
      },
      "source": [
        "my_file1=open('/content/text_words_english.txt')\n",
        "for line in my_file1:\n",
        "  query = line.split()[0]\n",
        "  url=\"http://www.bing.com/images/search?q=\" + query + \"&FORM=HDRSC2\"\n",
        "  #query=\"\"\n",
        "  soup = get_soup(url,header)\n",
        "  ActualImages=[]# contains the link for Large original images, type of  image\n",
        "  for a in soup.find_all(\"a\",{\"class\":\"iusc\"}):\n",
        "     print(a)\n",
        "     m = json.loads(a[\"m\"])\n",
        "     murl = m[\"murl\"]\n",
        "     turl = m[\"turl\"]\n",
        "     \n",
        "     image_name = urllib.parse.urlsplit(murl).path.split(\"/\")[-1]\n",
        "     print(image_name)\n",
        "     ActualImages.append((image_name, turl, murl))\n",
        "  print(\"there are total\" , len(ActualImages),\"images\")\n",
        "  if not os.path.exists(DIR):\n",
        "    os.mkdir(DIR)\n",
        "    \n",
        "  DIR = os.path.join(DIR, query.split()[0])\n",
        "  if not os.path.exists(DIR):\n",
        "    os.mkdir(DIR)\n",
        "    \n",
        "  for i, (image_name, turl, murl) in enumerate(ActualImages):\n",
        "    try:\n",
        "        #req = urllib2.Request(turl, headers={'User-Agent' : header})\n",
        "        #raw_img = urllib2.urlopen(req).read()\n",
        "        #req = urllib.request.Request(turl, headers={'User-Agent' : header})\n",
        "        raw_img = urllib.request.urlopen(turl).read()\n",
        "\n",
        "        cntr = len([i for i in os.listdir(DIR) if image_name in i]) + 1\n",
        "        #print cntr\n",
        "\n",
        "        f = open(os.path.join(DIR, image_name), 'wb')\n",
        "        f.write(raw_img)\n",
        "        f.close()\n",
        "    except Exception as e:\n",
        "        print(\"could not load : \" + image_name)\n",
        "        print(e)\n",
        "my_file1.close()"
      ],
      "execution_count": null,
      "outputs": []
    },
    {
      "cell_type": "code",
      "metadata": {
        "id": "oryUASHldZq-"
      },
      "source": [
        "my_file1=open('/content/phrases_english.txt')\n",
        "for line in my_file1:\n",
        "  query = line.split()[0]+\"+\"+line.split()[1]\n",
        "  url=\"http://www.bing.com/images/search?q=\" + query + \"&FORM=HDRSC2\"\n",
        "  #query=\"\"\n",
        "  soup = get_soup(url,header)\n",
        "  ActualImages=[]# contains the link for Large original images, type of  image\n",
        "  for a in soup.find_all(\"a\",{\"class\":\"iusc\"}):\n",
        "     print(a)\n",
        "     m = json.loads(a[\"m\"])\n",
        "     murl = m[\"murl\"]\n",
        "     turl = m[\"turl\"]\n",
        "     \n",
        "     image_name = urllib.parse.urlsplit(murl).path.split(\"/\")[-1]\n",
        "     print(image_name)\n",
        "     ActualImages.append((image_name, turl, murl))\n",
        "  print(\"there are total\" , len(ActualImages),\"images\")\n",
        "  if not os.path.exists(DIR):\n",
        "    os.mkdir(DIR)\n",
        "    \n",
        "  DIR = os.path.join(DIR, query.split()[0])\n",
        "  if not os.path.exists(DIR):\n",
        "    os.mkdir(DIR)\n",
        "    \n",
        "  for i, (image_name, turl, murl) in enumerate(ActualImages):\n",
        "    try:\n",
        "        #req = urllib2.Request(turl, headers={'User-Agent' : header})\n",
        "        #raw_img = urllib2.urlopen(req).read()\n",
        "        #req = urllib.request.Request(turl, headers={'User-Agent' : header})\n",
        "        raw_img = urllib.request.urlopen(turl).read()\n",
        "\n",
        "        cntr = len([i for i in os.listdir(DIR) if image_name in i]) + 1\n",
        "        #print cntr\n",
        "\n",
        "        f = open(os.path.join(DIR, image_name), 'wb')\n",
        "        f.write(raw_img)\n",
        "        f.close()\n",
        "    except Exception as e:\n",
        "        print(\"could not load : \" + image_name)\n",
        "        print(e)\n",
        "my_file1.close()"
      ],
      "execution_count": null,
      "outputs": []
    },
    {
      "cell_type": "markdown",
      "metadata": {
        "id": "S_X4SX1JeBmr"
      },
      "source": [
        "# Генерация человеческих изображений\n",
        "Также, если персонажи Вашей книги люди, то выполните шаги ниже, чтобы увеличить количество изображений в собираемом датасете, соответственно, улучшить качесвто сгенерированных изображений"
      ]
    },
    {
      "cell_type": "markdown",
      "metadata": {
        "id": "FbRT4OLSegpy"
      },
      "source": [
        "Загрузите данные по ссылке ниже на сой Гугл Диск\n",
        "https://drive.google.com/drive/folders/0BxYys69jI14kSVdWWllDMWhnN2c?usp=drive_open\n"
      ]
    },
    {
      "cell_type": "code",
      "metadata": {
        "id": "7Yu9flO-6wM7",
        "colab": {
          "base_uri": "https://localhost:8080/"
        },
        "outputId": "88323f80-794d-4065-e207-8b7d5b67537d"
      },
      "source": [
        "from google.colab import drive\n",
        "drive.mount('/content/drive')"
      ],
      "execution_count": null,
      "outputs": [
        {
          "output_type": "stream",
          "text": [
            "Mounted at /content/drive\n"
          ],
          "name": "stdout"
        }
      ]
    },
    {
      "cell_type": "code",
      "metadata": {
        "id": "OZjoibNb9RFF"
      },
      "source": [
        "import pandas as pd"
      ],
      "execution_count": null,
      "outputs": []
    },
    {
      "cell_type": "code",
      "metadata": {
        "id": "hVNHu_kj-pPy"
      },
      "source": [
        "import tarfile"
      ],
      "execution_count": null,
      "outputs": []
    },
    {
      "cell_type": "code",
      "metadata": {
        "id": "f5wyYCKde5Wz"
      },
      "source": [
        "os.mkdir(\"images_faces\")"
      ],
      "execution_count": null,
      "outputs": []
    },
    {
      "cell_type": "code",
      "metadata": {
        "id": "PCFqBd7w-vDL"
      },
      "source": [
        "tr=tarfile.open('/content/drive/My Drive/part1.tar.gz')"
      ],
      "execution_count": null,
      "outputs": []
    },
    {
      "cell_type": "code",
      "metadata": {
        "id": "GITUCS9g_LdY"
      },
      "source": [
        "tr.extractall(r'/content/images_faces')"
      ],
      "execution_count": null,
      "outputs": []
    },
    {
      "cell_type": "code",
      "metadata": {
        "id": "JriwtFFYAP4J"
      },
      "source": [
        "tr2=tarfile.open('/content/drive/My Drive/part2.tar.gz')\n",
        "tr2.extractall(r'/content/images_faces')"
      ],
      "execution_count": null,
      "outputs": []
    },
    {
      "cell_type": "code",
      "metadata": {
        "id": "wdxwUtArAwrx"
      },
      "source": [
        "tr3=tarfile.open('/content/drive/My Drive/part3.tar.gz')\n",
        "tr3.extractall(r'/content/images_faces')"
      ],
      "execution_count": null,
      "outputs": []
    },
    {
      "cell_type": "code",
      "metadata": {
        "id": "DXGCNwjyLtQA"
      },
      "source": [
        "from flask import request"
      ],
      "execution_count": null,
      "outputs": []
    },
    {
      "cell_type": "code",
      "metadata": {
        "id": "q54f-Vj-cZfu"
      },
      "source": [
        "import shutil\n",
        "import os\n",
        "import glob"
      ],
      "execution_count": null,
      "outputs": []
    },
    {
      "cell_type": "code",
      "metadata": {
        "id": "PPc0nuYlXYIK"
      },
      "source": [
        "import os"
      ],
      "execution_count": null,
      "outputs": []
    },
    {
      "cell_type": "code",
      "metadata": {
        "id": "1jcoSFyefyH9"
      },
      "source": [
        "os.mkdir(\"the_people\")"
      ],
      "execution_count": null,
      "outputs": []
    },
    {
      "cell_type": "code",
      "metadata": {
        "id": "xpF9jnGFBiQE",
        "cellView": "code"
      },
      "source": [
        "#@title Описание людей, исходя из их возраста и пола\n",
        "#@markdown Также, чтобы увеличить количество данных в датасете и, соответственно, улучшить качество генерируемых изображений, Вы можете использовать уже собранные датасеты, пока к данному ноутбуку подключен датасет UTKFace. Для сбора дополнительных изображений введите данные в форму ниже. Например, если известно, что возраст персонажа 12 лет, то вводите данные возраста в примерном промежутке от 10-14 лет\n",
        "gender = \"1\" #@param {type:\"string\"}\n",
        "#@markdown Для введения значения пола \"gender\"  0-мужской, 1-женский\n",
        "age = \"11\" #@param {type:\"string\"}\n",
        "\n",
        "#source = '/content/images/part1'\n",
        "#dest1 = '/content/images_dataset/'\n",
        "\n",
        "for file in glob.glob('/content/images_faces/part1/*'):\n",
        "  #print(file)\n",
        "  if age+'_'+gender in file:\n",
        "    shutil.move(file, '/content/the_people')\n",
        "\n",
        "\n",
        "for file in glob.glob('/content/images_faces/part2/*'):\n",
        "  #print(file)\n",
        "  if age+'_'+gender in file:\n",
        "    shutil.move(file, '/content/downloads/the_people')\n",
        "\n",
        "\n",
        "for file in glob.glob('/content/images_faces/part3/*'):\n",
        "  #print(file)\n",
        "  if age+'_'+gender in file:\n",
        "    shutil.move(file, '/content/downloads/the_people')\n",
        "\n",
        "\n",
        "#for file in glob.glob('/content/images/part1'):\n",
        "##    shutil.move(file, '/content/images_dataset')\n",
        "\n",
        "\n",
        "# a list of file types\n",
        "#vendors =['/content/images_dataset/part1']\n",
        "\n",
        "#for file in vendors:\n",
        " #    for f in (glob.glob(file)): \n",
        "  #       if age+'_'+gender in f: # if apple in name, move to new apple dir\n",
        "   #          shutil.move(f, '/content/images_dataset')"
      ],
      "execution_count": null,
      "outputs": []
    },
    {
      "cell_type": "code",
      "metadata": {
        "id": "r-CidBcQkKy4"
      },
      "source": [
        "from PIL import Image\n",
        "import multiprocessing, time, os\n",
        "def resize_img(img_path):\n",
        "    img = Image.open(os.path.join('/content/the_people',img_path))\n",
        "    img = img.resize((1024,1024), Image.ANTIALIAS)\n",
        "    img.save(os.path.join('/content/the_people_1024',img_path)) \n",
        "\n",
        "num_processes = multiprocessing.cpu_count()\n",
        "pool = multiprocessing.Pool(processes=num_processes)\n",
        "st = time.time()\n",
        "pool.map(resize_img, os.listdir('/content/the_people'))\n",
        "print(\"Execution time: \", time.time()-st)"
      ],
      "execution_count": null,
      "outputs": []
    },
    {
      "cell_type": "code",
      "metadata": {
        "colab": {
          "base_uri": "https://localhost:8080/"
        },
        "id": "gH2Cl2QzgXGS",
        "outputId": "bae79b75-0ec8-45f1-e17c-32b0520554c0"
      },
      "source": [
        "!pip install autocrop\n",
        "from PIL import Image\n",
        "%matplotlib inline\n",
        "import os\n",
        "import sys\n",
        "import inspect\n",
        "import matplotlib.pyplot as plt\n",
        "import PIL\n",
        "\n"
      ],
      "execution_count": null,
      "outputs": [
        {
          "output_type": "stream",
          "text": [
            "Requirement already satisfied: autocrop in /usr/local/lib/python3.6/dist-packages (1.1.0)\n",
            "Requirement already satisfied: opencv-python<5,>=3 in /usr/local/lib/python3.6/dist-packages (from autocrop) (4.1.2.30)\n",
            "Requirement already satisfied: numpy>=1.10 in /usr/local/lib/python3.6/dist-packages (from autocrop) (1.18.5)\n",
            "Requirement already satisfied: Pillow>5 in /usr/local/lib/python3.6/dist-packages (from autocrop) (7.0.0)\n"
          ],
          "name": "stdout"
        }
      ]
    },
    {
      "cell_type": "code",
      "metadata": {
        "id": "RgNIyz-YgmmD"
      },
      "source": [
        "from autocrop import Cropper"
      ],
      "execution_count": null,
      "outputs": []
    },
    {
      "cell_type": "code",
      "metadata": {
        "id": "MImSP89ig6yT"
      },
      "source": [
        "currentdir = os.path.dirname(os.path.abspath(inspect.getfile(inspect.currentframe())))\n",
        "parentdir = os.path.dirname(currentdir)\n",
        "sys.path.insert(0,parentdir) "
      ],
      "execution_count": null,
      "outputs": []
    },
    {
      "cell_type": "code",
      "metadata": {
        "id": "1LKZnynEh8ly"
      },
      "source": [
        "os.mkdir(\"cropped_faces\")"
      ],
      "execution_count": null,
      "outputs": []
    },
    {
      "cell_type": "code",
      "metadata": {
        "colab": {
          "base_uri": "https://localhost:8080/",
          "height": 367
        },
        "id": "bi2UBwo0hALm",
        "outputId": "078f7f22-5f57-4863-f4d4-88408eac064f"
      },
      "source": [
        "count = 1\n",
        "for file in glob.glob('/content/the_people_1024/*'):\n",
        "  loc = file\n",
        "  c = Cropper(face_percent=70)\n",
        "  img_array = c.crop(loc)\n",
        "  #c = [[0]*k*im.width for i in range(k*im.height)]\n",
        "  cropped_image = Image.fromarray(img_array)\n",
        "  %cd /content/cropped_faces/\n",
        "  cropped_image.save(str(count)+'.jpg')\n",
        "  count+=1\n",
        "  loc=\"\""
      ],
      "execution_count": null,
      "outputs": [
        {
          "output_type": "stream",
          "text": [
            "/content/cropped_faces\n"
          ],
          "name": "stdout"
        },
        {
          "output_type": "error",
          "ename": "AttributeError",
          "evalue": "ignored",
          "traceback": [
            "\u001b[0;31m---------------------------------------------------------------------------\u001b[0m",
            "\u001b[0;31mAttributeError\u001b[0m                            Traceback (most recent call last)",
            "\u001b[0;32m<ipython-input-9-2a9b362e8419>\u001b[0m in \u001b[0;36m<module>\u001b[0;34m()\u001b[0m\n\u001b[1;32m      5\u001b[0m   \u001b[0mimg_array\u001b[0m \u001b[0;34m=\u001b[0m \u001b[0mc\u001b[0m\u001b[0;34m.\u001b[0m\u001b[0mcrop\u001b[0m\u001b[0;34m(\u001b[0m\u001b[0mloc\u001b[0m\u001b[0;34m)\u001b[0m\u001b[0;34m\u001b[0m\u001b[0;34m\u001b[0m\u001b[0m\n\u001b[1;32m      6\u001b[0m   \u001b[0;31m#c = [[0]*k*im.width for i in range(k*im.height)]\u001b[0m\u001b[0;34m\u001b[0m\u001b[0;34m\u001b[0m\u001b[0;34m\u001b[0m\u001b[0m\n\u001b[0;32m----> 7\u001b[0;31m   \u001b[0mcropped_image\u001b[0m \u001b[0;34m=\u001b[0m \u001b[0mImage\u001b[0m\u001b[0;34m.\u001b[0m\u001b[0mfromarray\u001b[0m\u001b[0;34m(\u001b[0m\u001b[0mimg_array\u001b[0m\u001b[0;34m)\u001b[0m\u001b[0;34m\u001b[0m\u001b[0;34m\u001b[0m\u001b[0m\n\u001b[0m\u001b[1;32m      8\u001b[0m   \u001b[0mget_ipython\u001b[0m\u001b[0;34m(\u001b[0m\u001b[0;34m)\u001b[0m\u001b[0;34m.\u001b[0m\u001b[0mmagic\u001b[0m\u001b[0;34m(\u001b[0m\u001b[0;34m'cd /content/cropped_faces/'\u001b[0m\u001b[0;34m)\u001b[0m\u001b[0;34m\u001b[0m\u001b[0;34m\u001b[0m\u001b[0m\n\u001b[1;32m      9\u001b[0m   \u001b[0mcropped_image\u001b[0m\u001b[0;34m.\u001b[0m\u001b[0msave\u001b[0m\u001b[0;34m(\u001b[0m\u001b[0mstr\u001b[0m\u001b[0;34m(\u001b[0m\u001b[0mcount\u001b[0m\u001b[0;34m)\u001b[0m\u001b[0;34m+\u001b[0m\u001b[0;34m'.jpg'\u001b[0m\u001b[0;34m)\u001b[0m\u001b[0;34m\u001b[0m\u001b[0;34m\u001b[0m\u001b[0m\n",
            "\u001b[0;32m/usr/local/lib/python3.6/dist-packages/PIL/Image.py\u001b[0m in \u001b[0;36mfromarray\u001b[0;34m(obj, mode)\u001b[0m\n\u001b[1;32m   2668\u001b[0m     \u001b[0;34m.\u001b[0m\u001b[0;34m.\u001b[0m \u001b[0mversionadded\u001b[0m\u001b[0;34m:\u001b[0m\u001b[0;34m:\u001b[0m \u001b[0;36m1.1\u001b[0m\u001b[0;36m.6\u001b[0m\u001b[0;34m\u001b[0m\u001b[0;34m\u001b[0m\u001b[0m\n\u001b[1;32m   2669\u001b[0m     \"\"\"\n\u001b[0;32m-> 2670\u001b[0;31m     \u001b[0marr\u001b[0m \u001b[0;34m=\u001b[0m \u001b[0mobj\u001b[0m\u001b[0;34m.\u001b[0m\u001b[0m__array_interface__\u001b[0m\u001b[0;34m\u001b[0m\u001b[0;34m\u001b[0m\u001b[0m\n\u001b[0m\u001b[1;32m   2671\u001b[0m     \u001b[0mshape\u001b[0m \u001b[0;34m=\u001b[0m \u001b[0marr\u001b[0m\u001b[0;34m[\u001b[0m\u001b[0;34m\"shape\"\u001b[0m\u001b[0;34m]\u001b[0m\u001b[0;34m\u001b[0m\u001b[0;34m\u001b[0m\u001b[0m\n\u001b[1;32m   2672\u001b[0m     \u001b[0mndim\u001b[0m \u001b[0;34m=\u001b[0m \u001b[0mlen\u001b[0m\u001b[0;34m(\u001b[0m\u001b[0mshape\u001b[0m\u001b[0;34m)\u001b[0m\u001b[0;34m\u001b[0m\u001b[0;34m\u001b[0m\u001b[0m\n",
            "\u001b[0;31mAttributeError\u001b[0m: 'NoneType' object has no attribute '__array_interface__'"
          ]
        }
      ]
    },
    {
      "cell_type": "code",
      "metadata": {
        "id": "-aGD6tGgnWsC"
      },
      "source": [
        "!zip -r /content/downloads/the_object_description_1024.zip /content/downloads/the_object_description_1024"
      ],
      "execution_count": null,
      "outputs": []
    },
    {
      "cell_type": "markdown",
      "metadata": {
        "id": "5ryoumE0pNcY"
      },
      "source": [
        "Скачайте файл .zip на свой компьютер, разархивируйте и просмотрите собранные изображения. Удалите те, которые по Вашему мнени. не подходят под Ваще описание персонажа/объекта. Лучше всего, если в собранном датасете будут находиться изображения, как на примерах, приведенных ниже."
      ]
    },
    {
      "cell_type": "markdown",
      "metadata": {
        "id": "DCZ3AKm4qlpa"
      },
      "source": [
        "**Подходящие изображения**\n",
        "\n",
        "<img src=\"https://st3.depositphotos.com/12985790/17379/i/450/depositphotos_173790436-stock-photo-happy-child.jpg\" width=\"300px\"/> \n",
        "\n",
        "<img src=\"https://womanway.online/published/publicdata/WOMANWAY/attachments/SC/products_pictures/%D0%B4%D0%B5%D0%B2%D0%BE%D1%87%D0%BA%D0%B0nd.jpg\" width=\"300px\"/>\n",
        "\n",
        "**Неподходящие изображения**\n",
        "\n",
        "<img src=\"https://kid-prazdnik.ru/sites/default/files/sjgcko-rrzy1_0.jpg\" width=\"300px\"/> \n",
        "\n",
        "<img src=\"https://cotton-and-silk.ru/image/cache/data/25.07.2018/7/1-800x1200.JPG\" width=\"300px\"/>\n",
        "\n"
      ]
    },
    {
      "cell_type": "markdown",
      "metadata": {
        "id": "KJnR2qfNsGWi"
      },
      "source": [
        "После того,как Вы удалили все неподходящие изображения, переименуйте файлы в папке по их порядковому номеру, загрузите на свой Гугл Диск и приступайте к слудующему шагу.\n",
        "\n",
        "\n",
        "---\n",
        "\n",
        "Для того, чтобы собрать собрать изображения для генерации других объектов, перезапустите среду выполнения и выполните код из раздела \"Подготовка к генерации изображений\""
      ]
    }
  ]
}